{
 "cells": [
  {
   "cell_type": "markdown",
   "id": "28f7b90e-153b-4c9d-965e-8346a3b1343a",
   "metadata": {},
   "source": [
    "<img src=\"pandas_logo.svg\" alt=\"NumPy Logo\" style=\"width:250px; height:100px;\">\n",
    "<h1>Pandas Library:</h1>\n",
    "<ul>\n",
    "    <li>Pandas is a Python library used for working with data sets.</li>\n",
    "    <li>It has functions for analyzing , cleaning, exploring and manipulating data.</li>\n",
    "    <li>It was created by Wes McKinney in 2008.</li>\n",
    "    <li>Pandas can clean messey data sets, and make them readable and relevant.</li>\n",
    "    <li>Pandas has 3 powerful data structures which makes them high performance and powerful data analysis tool. They are:</li>\n",
    "</ul>\n",
    "<ol>\n",
    "    <li>Series(One Dimensional)</li>\n",
    "    <li>DataFrame(Two Dimensional)</li>\n",
    "    <li>Panel(Multi-dimensional)</li>\n",
    "</ol>"
   ]
  },
  {
   "cell_type": "markdown",
   "id": "861c97e5-17a0-42b2-9fc1-6b495828e033",
   "metadata": {},
   "source": [
    "<h3>Pandas Series:</h3>\n",
    "<ul>\n",
    "    <li>A pandas series is like a column in a table.</li>\n",
    "    <li>It's a one-dimensional array holding any type of data where as in Numpy array it can hold only one type of data.</li>\n",
    "</ul>"
   ]
  },
  {
   "cell_type": "code",
   "execution_count": 232,
   "id": "ac530b1e-0b23-40cd-999d-7f0f77acc04c",
   "metadata": {},
   "outputs": [],
   "source": [
    "# Importing the libraries\n",
    "import numpy as np\n",
    "import pandas as pd\n",
    "import matplotlib.pyplot as plt"
   ]
  },
  {
   "cell_type": "markdown",
   "id": "9f24a592-1025-49bb-a95e-1ce4e1986189",
   "metadata": {},
   "source": [
    "<h4>Different ways of creating Series in pandas:</h4>"
   ]
  },
  {
   "cell_type": "code",
   "execution_count": 235,
   "id": "84181afb-c929-41ca-bd85-3396d2788673",
   "metadata": {},
   "outputs": [
    {
     "data": {
      "text/plain": [
       "Series([], dtype: object)"
      ]
     },
     "execution_count": 235,
     "metadata": {},
     "output_type": "execute_result"
    }
   ],
   "source": [
    "# Creating an empty Series\n",
    "s1 = pd.Series()\n",
    "s1"
   ]
  },
  {
   "cell_type": "code",
   "execution_count": 237,
   "id": "f308eb6a-6edf-437c-8db5-fcc756ecc3bf",
   "metadata": {},
   "outputs": [
    {
     "data": {
      "text/plain": [
       "0    10\n",
       "1    20\n",
       "2    30\n",
       "3    40\n",
       "4    50\n",
       "dtype: int64"
      ]
     },
     "execution_count": 237,
     "metadata": {},
     "output_type": "execute_result"
    }
   ],
   "source": [
    "# Passing a list\n",
    "s2 = pd.Series([10, 20, 30, 40, 50])\n",
    "s2"
   ]
  },
  {
   "cell_type": "code",
   "execution_count": 239,
   "id": "07b9563b-251d-4774-9f27-9d7d1567275d",
   "metadata": {},
   "outputs": [
    {
     "name": "stdout",
     "output_type": "stream",
     "text": [
      "10\n"
     ]
    },
    {
     "data": {
      "text/plain": [
       "0    10\n",
       "1    20\n",
       "2    30\n",
       "3    40\n",
       "4    50\n",
       "dtype: int64"
      ]
     },
     "execution_count": 239,
     "metadata": {},
     "output_type": "execute_result"
    }
   ],
   "source": [
    "# Passing a list in a variable\n",
    "my_list = [10,20,30,40,50]\n",
    "s3 = pd.Series(my_list)\n",
    "print(s3[0])\n",
    "s3"
   ]
  },
  {
   "cell_type": "code",
   "execution_count": 140,
   "id": "2291e598-75db-4581-9022-d33e360088de",
   "metadata": {},
   "outputs": [
    {
     "name": "stdout",
     "output_type": "stream",
     "text": [
      "10.0\n"
     ]
    },
    {
     "data": {
      "text/plain": [
       "v    10.0\n",
       "w    20.0\n",
       "x    30.0\n",
       "Y    40.0\n",
       "z    50.0\n",
       "dtype: float64"
      ]
     },
     "execution_count": 140,
     "metadata": {},
     "output_type": "execute_result"
    }
   ],
   "source": [
    "# Specifying index labels\n",
    "s4 = pd.Series([10, 20, 30, 40, 50], index = [\"v\",\"w\",\"x\",\"Y\",\"z\"], dtype = float)\n",
    "print(s4[\"v\"])\n",
    "s4"
   ]
  },
  {
   "cell_type": "code",
   "execution_count": 142,
   "id": "b207f871-1e4f-426c-bbd3-3cd27aecf665",
   "metadata": {},
   "outputs": [
    {
     "name": "stdout",
     "output_type": "stream",
     "text": [
      "0    [10, 20]\n",
      "1    [30, 40]\n",
      "2    [50, 60]\n",
      "dtype: object\n",
      "0    (10, 20)\n",
      "1    (30, 40)\n",
      "2    (50, 60)\n",
      "dtype: object\n",
      "0    {10, 20}\n",
      "1    {40, 30}\n",
      "2    {50, 60}\n",
      "dtype: object\n",
      "0    (10, 20)\n",
      "1    (30, 40)\n",
      "2    (50, 60)\n",
      "dtype: object\n"
     ]
    }
   ],
   "source": [
    "# Passing list of lists\n",
    "s5 = pd.Series([[10, 20], [30, 40], [50, 60]])\n",
    "print(s5)\n",
    "# Passing list of tuples\n",
    "s6 = pd.Series([(10, 20),(30, 40),(50, 60)])\n",
    "print(s6)\n",
    "# Passing list sets\n",
    "s7 = pd.Series([{10, 20}, {30, 40}, {50, 60}])\n",
    "print(s7)\n",
    "# Passing tuple of tuples\n",
    "s8 = pd.Series(((10, 20), (30, 40), (50, 60)))\n",
    "print(s8)"
   ]
  },
  {
   "cell_type": "code",
   "execution_count": 144,
   "id": "41237e0a-9f43-4330-9c42-90743f4d3a90",
   "metadata": {},
   "outputs": [
    {
     "data": {
      "text/plain": [
       "0    10\n",
       "1    20\n",
       "2    30\n",
       "3    40\n",
       "4    50\n",
       "dtype: int32"
      ]
     },
     "execution_count": 144,
     "metadata": {},
     "output_type": "execute_result"
    }
   ],
   "source": [
    "# Passing an array\n",
    "my_array = np.array([10, 20, 30, 40, 50])\n",
    "s9 = pd.Series(my_array)\n",
    "s9"
   ]
  },
  {
   "cell_type": "code",
   "execution_count": 146,
   "id": "c7b9ab9f-becb-4e89-844b-b0b43daa59f6",
   "metadata": {},
   "outputs": [
    {
     "name": "stdout",
     "output_type": "stream",
     "text": [
      "10    20\n",
      "30    40\n",
      "50    60\n",
      "dtype: int64\n"
     ]
    }
   ],
   "source": [
    "# Passing a dictionary\n",
    "s10 = pd.Series({10:20, 30:40, 50:60}) # keys as index labels; values as values in the column\n",
    "print(s10)"
   ]
  },
  {
   "cell_type": "code",
   "execution_count": 148,
   "id": "213d18b0-e765-411b-a9a0-2965c9d827cd",
   "metadata": {},
   "outputs": [
    {
     "name": "stdout",
     "output_type": "stream",
     "text": [
      "10    20\n",
      "30    40\n",
      "dtype: int64\n"
     ]
    }
   ],
   "source": [
    "# Specifying the only items using index keyword argument\n",
    "s11 = pd.Series({10:20, 30:40, 50:60}, index = [10, 30])\n",
    "print(s11)"
   ]
  },
  {
   "cell_type": "code",
   "execution_count": 150,
   "id": "0de2c21f-73fa-4816-840a-67a4bb65a50b",
   "metadata": {},
   "outputs": [
    {
     "name": "stdout",
     "output_type": "stream",
     "text": [
      "10    20\n",
      "30    40\n",
      "dtype: int64\n"
     ]
    }
   ],
   "source": [
    "# We can also pass the Series in to a Series\n",
    "s12 = pd.Series(s11)\n",
    "print(s12)"
   ]
  },
  {
   "cell_type": "markdown",
   "id": "da029284-306f-4f5c-a8c7-e08ed0392bbd",
   "metadata": {},
   "source": [
    "<h4>Attributes of Series:</h4>"
   ]
  },
  {
   "cell_type": "code",
   "execution_count": 153,
   "id": "da8246ef-f4aa-46b2-b818-6aa79a299b8c",
   "metadata": {},
   "outputs": [
    {
     "data": {
      "text/plain": [
       "0    10\n",
       "1    20\n",
       "2    30\n",
       "3    40\n",
       "4    50\n",
       "Name: List of Series, dtype: int64"
      ]
     },
     "execution_count": 153,
     "metadata": {},
     "output_type": "execute_result"
    }
   ],
   "source": [
    "my_list = [10, 20, 30, 40, 50]\n",
    "\n",
    "# We can name the Series using name keyword argument\n",
    "my_series = pd.Series(my_list, name = \"List of Series\")\n",
    "my_series"
   ]
  },
  {
   "cell_type": "code",
   "execution_count": 155,
   "id": "b1aa9af2-600c-4273-b3e3-b362669f17cc",
   "metadata": {},
   "outputs": [
    {
     "data": {
      "text/plain": [
       "'List of Series'"
      ]
     },
     "execution_count": 155,
     "metadata": {},
     "output_type": "execute_result"
    }
   ],
   "source": [
    "# We can access the name using name attribute\n",
    "my_series.name"
   ]
  },
  {
   "cell_type": "code",
   "execution_count": 157,
   "id": "541114be-97e8-4340-a4f1-19d8c64ccb50",
   "metadata": {},
   "outputs": [
    {
     "data": {
      "text/plain": [
       "<NumpyExtensionArray>\n",
       "[10, 20, 30, 40, 50]\n",
       "Length: 5, dtype: int64"
      ]
     },
     "execution_count": 157,
     "metadata": {},
     "output_type": "execute_result"
    }
   ],
   "source": [
    "# Returns Series as an array\n",
    "my_series.array"
   ]
  },
  {
   "cell_type": "code",
   "execution_count": 159,
   "id": "0c08b018-24a6-4e3c-a375-79c187595474",
   "metadata": {},
   "outputs": [
    {
     "data": {
      "text/plain": [
       "array([10, 20, 30, 40, 50], dtype=int64)"
      ]
     },
     "execution_count": 159,
     "metadata": {},
     "output_type": "execute_result"
    }
   ],
   "source": [
    "# Returns the values\n",
    "my_series.values"
   ]
  },
  {
   "cell_type": "code",
   "execution_count": 161,
   "id": "86de6c6c-f92a-4eb7-972e-326aa8cd8668",
   "metadata": {},
   "outputs": [
    {
     "data": {
      "text/plain": [
       "RangeIndex(start=0, stop=5, step=1)"
      ]
     },
     "execution_count": 161,
     "metadata": {},
     "output_type": "execute_result"
    }
   ],
   "source": [
    "# Returns the indices\n",
    "my_series.index"
   ]
  },
  {
   "cell_type": "code",
   "execution_count": 163,
   "id": "6ff35a31-14ca-469c-83b8-b2f6ab3cfc61",
   "metadata": {},
   "outputs": [
    {
     "data": {
      "text/plain": [
       "v    10.0\n",
       "w    20.0\n",
       "x    30.0\n",
       "Y    40.0\n",
       "z    50.0\n",
       "dtype: float64"
      ]
     },
     "execution_count": 163,
     "metadata": {},
     "output_type": "execute_result"
    }
   ],
   "source": [
    "# Specifying the index labels\n",
    "my_series = pd.Series([10, 20, 30, 40, 50], index = [\"v\", \"w\", \"x\", \"Y\", \"z\"], dtype = float)\n",
    "my_series"
   ]
  },
  {
   "cell_type": "code",
   "execution_count": 165,
   "id": "834d5a6e-fa5e-48f0-8168-d4f9ced8521d",
   "metadata": {},
   "outputs": [
    {
     "data": {
      "text/plain": [
       "Index(['v', 'w', 'x', 'Y', 'z'], dtype='object')"
      ]
     },
     "execution_count": 165,
     "metadata": {},
     "output_type": "execute_result"
    }
   ],
   "source": [
    "# Now it returns the index labels\n",
    "my_series.index"
   ]
  },
  {
   "cell_type": "code",
   "execution_count": 167,
   "id": "302b9426-bd1c-45e4-ae31-1b95884103f8",
   "metadata": {},
   "outputs": [
    {
     "data": {
      "text/plain": [
       "1"
      ]
     },
     "execution_count": 167,
     "metadata": {},
     "output_type": "execute_result"
    }
   ],
   "source": [
    "# Returns the dimension\n",
    "my_series.ndim"
   ]
  },
  {
   "cell_type": "code",
   "execution_count": 169,
   "id": "fc8191da-062a-4d04-b721-c030d23a0e50",
   "metadata": {},
   "outputs": [
    {
     "data": {
      "text/plain": [
       "dtype('float64')"
      ]
     },
     "execution_count": 169,
     "metadata": {},
     "output_type": "execute_result"
    }
   ],
   "source": [
    "# Returns the data type of values stored in the Series\n",
    "my_series.dtype"
   ]
  },
  {
   "cell_type": "code",
   "execution_count": 171,
   "id": "c653beb3-efd7-4282-9f52-79770ce99c7e",
   "metadata": {},
   "outputs": [
    {
     "data": {
      "text/plain": [
       "pandas.core.series.Series"
      ]
     },
     "execution_count": 171,
     "metadata": {},
     "output_type": "execute_result"
    }
   ],
   "source": [
    "# Returns the data type of a variable\n",
    "type(my_series)"
   ]
  },
  {
   "cell_type": "code",
   "execution_count": 173,
   "id": "a098e49f-77d8-4c76-840d-5631d60d67ff",
   "metadata": {},
   "outputs": [
    {
     "data": {
      "text/plain": [
       "(5,)"
      ]
     },
     "execution_count": 173,
     "metadata": {},
     "output_type": "execute_result"
    }
   ],
   "source": [
    "# Returns the shape of the Series\n",
    "my_series.shape"
   ]
  },
  {
   "cell_type": "code",
   "execution_count": 175,
   "id": "013159d4-9b65-493c-8cf3-f3d5cec4b875",
   "metadata": {},
   "outputs": [
    {
     "data": {
      "text/plain": [
       "40"
      ]
     },
     "execution_count": 175,
     "metadata": {},
     "output_type": "execute_result"
    }
   ],
   "source": [
    "# Returns the memory usage of values\n",
    "my_series.nbytes"
   ]
  },
  {
   "cell_type": "code",
   "execution_count": 177,
   "id": "6538e2e2-447a-45f4-902c-a8bb8a38892f",
   "metadata": {},
   "outputs": [
    {
     "data": {
      "text/plain": [
       "252"
      ]
     },
     "execution_count": 177,
     "metadata": {},
     "output_type": "execute_result"
    }
   ],
   "source": [
    "# Returns the memory usage of indices and values\n",
    "my_series.memory_usage()"
   ]
  },
  {
   "cell_type": "code",
   "execution_count": 179,
   "id": "ef13ee5d-b0d0-4c5e-96a9-84ef89e9dddb",
   "metadata": {},
   "outputs": [
    {
     "data": {
      "text/plain": [
       "40"
      ]
     },
     "execution_count": 179,
     "metadata": {},
     "output_type": "execute_result"
    }
   ],
   "source": [
    "# Now it returns only values\n",
    "my_series.memory_usage(index = False)"
   ]
  },
  {
   "cell_type": "code",
   "execution_count": 181,
   "id": "acfb0df5-78bd-4dcc-8fea-100c20ec4cee",
   "metadata": {},
   "outputs": [
    {
     "data": {
      "text/plain": [
       "5"
      ]
     },
     "execution_count": 181,
     "metadata": {},
     "output_type": "execute_result"
    }
   ],
   "source": [
    "# Returns the size(no. of elements present in the Series) of the Series\n",
    "my_series.size"
   ]
  },
  {
   "cell_type": "code",
   "execution_count": 183,
   "id": "d7d0019c-050c-403b-8220-58762d3ab9d4",
   "metadata": {},
   "outputs": [
    {
     "data": {
      "text/plain": [
       "5"
      ]
     },
     "execution_count": 183,
     "metadata": {},
     "output_type": "execute_result"
    }
   ],
   "source": [
    "# Returns the length(no. of elements present in the Series) of the Series\n",
    "len(my_series)"
   ]
  },
  {
   "cell_type": "code",
   "execution_count": 185,
   "id": "e7d6a000-21a5-4758-86e3-eabb292e327e",
   "metadata": {},
   "outputs": [
    {
     "data": {
      "text/plain": [
       "False"
      ]
     },
     "execution_count": 185,
     "metadata": {},
     "output_type": "execute_result"
    }
   ],
   "source": [
    "# Returns True if the Series is empty\n",
    "my_series.empty"
   ]
  },
  {
   "cell_type": "markdown",
   "id": "d05ac2fd-57a8-460e-805a-eeaa041446d1",
   "metadata": {},
   "source": [
    "<h4>Mathematical Operations on Series:</h4>"
   ]
  },
  {
   "cell_type": "code",
   "execution_count": 188,
   "id": "f6e71f9c-1ed2-441d-9e0a-63a3019179a4",
   "metadata": {},
   "outputs": [
    {
     "name": "stdout",
     "output_type": "stream",
     "text": [
      "0    10\n",
      "1    20\n",
      "2    30\n",
      "3    40\n",
      "4    50\n",
      "dtype: int64\n",
      "0    11\n",
      "1    22\n",
      "2    33\n",
      "3    44\n",
      "4    55\n",
      "dtype: int64\n"
     ]
    }
   ],
   "source": [
    "my_series1 = pd.Series([10, 20, 30, 40, 50])\n",
    "my_series2 = pd.Series([11, 22, 33, 44, 55])\n",
    "print(my_series1)\n",
    "print(my_series2)"
   ]
  },
  {
   "cell_type": "code",
   "execution_count": 190,
   "id": "49521d3b-2d0b-43cd-8f68-f9d16978323f",
   "metadata": {},
   "outputs": [
    {
     "data": {
      "text/plain": [
       "0     21\n",
       "1     42\n",
       "2     63\n",
       "3     84\n",
       "4    105\n",
       "dtype: int64"
      ]
     },
     "execution_count": 190,
     "metadata": {},
     "output_type": "execute_result"
    }
   ],
   "source": [
    "# Addition\n",
    "my_series1.add(my_series2)"
   ]
  },
  {
   "cell_type": "code",
   "execution_count": 192,
   "id": "ed6b4940-cf96-4bde-a9f3-739ca23cf3c9",
   "metadata": {},
   "outputs": [
    {
     "data": {
      "text/plain": [
       "0     21\n",
       "1     42\n",
       "2     63\n",
       "3     84\n",
       "4    105\n",
       "dtype: int64"
      ]
     },
     "execution_count": 192,
     "metadata": {},
     "output_type": "execute_result"
    }
   ],
   "source": [
    "my_series1 + my_series2"
   ]
  },
  {
   "cell_type": "code",
   "execution_count": 194,
   "id": "ca0eed0f-0527-442f-910d-55081d23fdbc",
   "metadata": {},
   "outputs": [
    {
     "data": {
      "text/plain": [
       "0   -1\n",
       "1   -2\n",
       "2   -3\n",
       "3   -4\n",
       "4   -5\n",
       "dtype: int64"
      ]
     },
     "execution_count": 194,
     "metadata": {},
     "output_type": "execute_result"
    }
   ],
   "source": [
    "# Subtraction\n",
    "my_series1.subtract(my_series2)"
   ]
  },
  {
   "cell_type": "code",
   "execution_count": 196,
   "id": "ac72381b-2d27-4ffa-afdc-522da985ae81",
   "metadata": {},
   "outputs": [
    {
     "data": {
      "text/plain": [
       "0   -1\n",
       "1   -2\n",
       "2   -3\n",
       "3   -4\n",
       "4   -5\n",
       "dtype: int64"
      ]
     },
     "execution_count": 196,
     "metadata": {},
     "output_type": "execute_result"
    }
   ],
   "source": [
    "my_series1 - my_series2"
   ]
  },
  {
   "cell_type": "code",
   "execution_count": 198,
   "id": "6ade5e70-3f54-4bae-9611-6492eca95229",
   "metadata": {},
   "outputs": [
    {
     "data": {
      "text/plain": [
       "0     110\n",
       "1     440\n",
       "2     990\n",
       "3    1760\n",
       "4    2750\n",
       "dtype: int64"
      ]
     },
     "execution_count": 198,
     "metadata": {},
     "output_type": "execute_result"
    }
   ],
   "source": [
    "# Multiplication\n",
    "my_series1.multiply(my_series2)"
   ]
  },
  {
   "cell_type": "code",
   "execution_count": 200,
   "id": "36ca173c-e533-46d4-b103-7dd682cc2302",
   "metadata": {},
   "outputs": [
    {
     "data": {
      "text/plain": [
       "0     110\n",
       "1     440\n",
       "2     990\n",
       "3    1760\n",
       "4    2750\n",
       "dtype: int64"
      ]
     },
     "execution_count": 200,
     "metadata": {},
     "output_type": "execute_result"
    }
   ],
   "source": [
    "my_series1 * my_series2"
   ]
  },
  {
   "cell_type": "code",
   "execution_count": 202,
   "id": "f866c026-ac12-4a90-95fa-99c2244ca0b0",
   "metadata": {},
   "outputs": [
    {
     "data": {
      "text/plain": [
       "0    0.909091\n",
       "1    0.909091\n",
       "2    0.909091\n",
       "3    0.909091\n",
       "4    0.909091\n",
       "dtype: float64"
      ]
     },
     "execution_count": 202,
     "metadata": {},
     "output_type": "execute_result"
    }
   ],
   "source": [
    "# Division(returns the quotient)\n",
    "my_series1.divide(my_series2)"
   ]
  },
  {
   "cell_type": "code",
   "execution_count": 204,
   "id": "9ecc8450-a830-4af1-ab8d-2503c253a09c",
   "metadata": {},
   "outputs": [
    {
     "data": {
      "text/plain": [
       "0    0.909091\n",
       "1    0.909091\n",
       "2    0.909091\n",
       "3    0.909091\n",
       "4    0.909091\n",
       "dtype: float64"
      ]
     },
     "execution_count": 204,
     "metadata": {},
     "output_type": "execute_result"
    }
   ],
   "source": [
    "my_series1 / my_series2"
   ]
  },
  {
   "cell_type": "code",
   "execution_count": 206,
   "id": "13a65a46-7367-4c06-ae0f-1ce3892c1c8f",
   "metadata": {},
   "outputs": [
    {
     "data": {
      "text/plain": [
       "0    10\n",
       "1    20\n",
       "2    30\n",
       "3    40\n",
       "4    50\n",
       "dtype: int64"
      ]
     },
     "execution_count": 206,
     "metadata": {},
     "output_type": "execute_result"
    }
   ],
   "source": [
    "# Modulus(returns a remainder)\n",
    "my_series1.mod(my_series2)"
   ]
  },
  {
   "cell_type": "code",
   "execution_count": 208,
   "id": "1c8eeb74-84d4-47a0-9b52-1e5c39fc6b04",
   "metadata": {},
   "outputs": [
    {
     "data": {
      "text/plain": [
       "0    10\n",
       "1    20\n",
       "2    30\n",
       "3    40\n",
       "4    50\n",
       "dtype: int64"
      ]
     },
     "execution_count": 208,
     "metadata": {},
     "output_type": "execute_result"
    }
   ],
   "source": [
    "my_series1 % my_series2"
   ]
  },
  {
   "cell_type": "code",
   "execution_count": 210,
   "id": "087ae59e-b766-42ba-b7db-f6bfa07d6865",
   "metadata": {},
   "outputs": [
    {
     "data": {
      "text/plain": [
       "0           100000000000\n",
       "1    7974907369840705536\n",
       "2   -4182185861443485696\n",
       "3                      0\n",
       "4    3783023686991216640\n",
       "dtype: int64"
      ]
     },
     "execution_count": 210,
     "metadata": {},
     "output_type": "execute_result"
    }
   ],
   "source": [
    "# Exponentiation\n",
    "my_series1.pow(my_series2)"
   ]
  },
  {
   "cell_type": "code",
   "execution_count": 212,
   "id": "da34e555-415c-4e98-83a7-c5c67461532c",
   "metadata": {},
   "outputs": [
    {
     "data": {
      "text/plain": [
       "0           100000000000\n",
       "1    7974907369840705536\n",
       "2   -4182185861443485696\n",
       "3                      0\n",
       "4    3783023686991216640\n",
       "dtype: int64"
      ]
     },
     "execution_count": 212,
     "metadata": {},
     "output_type": "execute_result"
    }
   ],
   "source": [
    "my_series1 ** my_series2"
   ]
  },
  {
   "cell_type": "code",
   "execution_count": 214,
   "id": "a85bfd0b-550a-44a3-9171-e79ab3fa1a48",
   "metadata": {},
   "outputs": [
    {
     "data": {
      "text/plain": [
       "0    True\n",
       "1    True\n",
       "2    True\n",
       "3    True\n",
       "4    True\n",
       "dtype: bool"
      ]
     },
     "execution_count": 214,
     "metadata": {},
     "output_type": "execute_result"
    }
   ],
   "source": [
    "# Less than\n",
    "my_series1.le(my_series2)"
   ]
  },
  {
   "cell_type": "code",
   "execution_count": 216,
   "id": "2b8a250f-b516-4acf-9308-73b6c604bfcb",
   "metadata": {},
   "outputs": [
    {
     "data": {
      "text/plain": [
       "0    True\n",
       "1    True\n",
       "2    True\n",
       "3    True\n",
       "4    True\n",
       "dtype: bool"
      ]
     },
     "execution_count": 216,
     "metadata": {},
     "output_type": "execute_result"
    }
   ],
   "source": [
    "my_series1 < my_series2"
   ]
  },
  {
   "cell_type": "code",
   "execution_count": 218,
   "id": "a7eefdf2-9b8f-445a-9545-473b68aafb65",
   "metadata": {},
   "outputs": [
    {
     "data": {
      "text/plain": [
       "0    False\n",
       "1    False\n",
       "2    False\n",
       "3    False\n",
       "4    False\n",
       "dtype: bool"
      ]
     },
     "execution_count": 218,
     "metadata": {},
     "output_type": "execute_result"
    }
   ],
   "source": [
    "# Greater than\n",
    "my_series1.gt(my_series2)"
   ]
  },
  {
   "cell_type": "code",
   "execution_count": 220,
   "id": "839e3988-e17a-4f2f-a684-7d09e0c0ba8c",
   "metadata": {},
   "outputs": [
    {
     "data": {
      "text/plain": [
       "0    False\n",
       "1    False\n",
       "2    False\n",
       "3    False\n",
       "4    False\n",
       "dtype: bool"
      ]
     },
     "execution_count": 220,
     "metadata": {},
     "output_type": "execute_result"
    }
   ],
   "source": [
    "my_series1 > my_series2"
   ]
  },
  {
   "cell_type": "code",
   "execution_count": 222,
   "id": "2fc78477-9a66-45b6-b3de-ffb0c9680764",
   "metadata": {},
   "outputs": [
    {
     "data": {
      "text/plain": [
       "0    False\n",
       "1    False\n",
       "2    False\n",
       "3    False\n",
       "4    False\n",
       "dtype: bool"
      ]
     },
     "execution_count": 222,
     "metadata": {},
     "output_type": "execute_result"
    }
   ],
   "source": [
    "# Equals to \n",
    "my_series1.eq(my_series2)"
   ]
  },
  {
   "cell_type": "code",
   "execution_count": 224,
   "id": "d10d4744-d648-4015-83d4-1dca504674bb",
   "metadata": {},
   "outputs": [
    {
     "data": {
      "text/plain": [
       "0    False\n",
       "1    False\n",
       "2    False\n",
       "3    False\n",
       "4    False\n",
       "dtype: bool"
      ]
     },
     "execution_count": 224,
     "metadata": {},
     "output_type": "execute_result"
    }
   ],
   "source": [
    "my_series1 == my_series2"
   ]
  }
 ],
 "metadata": {
  "kernelspec": {
   "display_name": "Python [conda env:base] *",
   "language": "python",
   "name": "conda-base-py"
  },
  "language_info": {
   "codemirror_mode": {
    "name": "ipython",
    "version": 3
   },
   "file_extension": ".py",
   "mimetype": "text/x-python",
   "name": "python",
   "nbconvert_exporter": "python",
   "pygments_lexer": "ipython3",
   "version": "3.12.7"
  }
 },
 "nbformat": 4,
 "nbformat_minor": 5
}
