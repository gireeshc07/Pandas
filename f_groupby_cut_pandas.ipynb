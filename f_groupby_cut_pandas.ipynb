{
 "cells": [
  {
   "cell_type": "markdown",
   "id": "baba2585-0b1c-474e-b58a-be2b1afb91cb",
   "metadata": {},
   "source": [
    "<img src=\"pandas_logo.svg\" alt=\"NumPy Logo\" style=\"width:250px; height:100px;\">\n",
    "<h1>GroupBy, Plotting and  Cut() Function</h1>"
   ]
  },
  {
   "cell_type": "code",
   "execution_count": 188,
   "id": "25203a05-1dd0-4daa-ab0d-339b414b1334",
   "metadata": {},
   "outputs": [],
   "source": [
    "import numpy as np\n",
    "import pandas as pd\n",
    "import matplotlib.pyplot as plt"
   ]
  },
  {
   "cell_type": "markdown",
   "id": "15bcd1d2-04e8-4756-8e8f-83eba31055c1",
   "metadata": {},
   "source": [
    "<h4>Pandas GroupBy:</h4>"
   ]
  },
  {
   "cell_type": "code",
   "execution_count": 191,
   "id": "54b51308-31bc-4aac-9a44-5ceab540245d",
   "metadata": {},
   "outputs": [
    {
     "data": {
      "text/html": [
       "<div>\n",
       "<style scoped>\n",
       "    .dataframe tbody tr th:only-of-type {\n",
       "        vertical-align: middle;\n",
       "    }\n",
       "\n",
       "    .dataframe tbody tr th {\n",
       "        vertical-align: top;\n",
       "    }\n",
       "\n",
       "    .dataframe thead th {\n",
       "        text-align: right;\n",
       "    }\n",
       "</style>\n",
       "<table border=\"1\" class=\"dataframe\">\n",
       "  <thead>\n",
       "    <tr style=\"text-align: right;\">\n",
       "      <th></th>\n",
       "      <th>Countries</th>\n",
       "      <th>Continents</th>\n",
       "      <th>Beer</th>\n",
       "      <th>Spirit</th>\n",
       "      <th>Wine</th>\n",
       "      <th>T_Cons</th>\n",
       "    </tr>\n",
       "  </thead>\n",
       "  <tbody>\n",
       "    <tr>\n",
       "      <th>0</th>\n",
       "      <td>Afghanistan</td>\n",
       "      <td>Asia</td>\n",
       "      <td>231</td>\n",
       "      <td>215</td>\n",
       "      <td>191</td>\n",
       "      <td>637</td>\n",
       "    </tr>\n",
       "    <tr>\n",
       "      <th>1</th>\n",
       "      <td>South Africa</td>\n",
       "      <td>Africa</td>\n",
       "      <td>227</td>\n",
       "      <td>183</td>\n",
       "      <td>212</td>\n",
       "      <td>622</td>\n",
       "    </tr>\n",
       "    <tr>\n",
       "      <th>2</th>\n",
       "      <td>France</td>\n",
       "      <td>Europe</td>\n",
       "      <td>197</td>\n",
       "      <td>236</td>\n",
       "      <td>243</td>\n",
       "      <td>676</td>\n",
       "    </tr>\n",
       "    <tr>\n",
       "      <th>3</th>\n",
       "      <td>Argentina</td>\n",
       "      <td>South America</td>\n",
       "      <td>197</td>\n",
       "      <td>175</td>\n",
       "      <td>227</td>\n",
       "      <td>599</td>\n",
       "    </tr>\n",
       "    <tr>\n",
       "      <th>4</th>\n",
       "      <td>America</td>\n",
       "      <td>North America</td>\n",
       "      <td>220</td>\n",
       "      <td>216</td>\n",
       "      <td>216</td>\n",
       "      <td>652</td>\n",
       "    </tr>\n",
       "    <tr>\n",
       "      <th>5</th>\n",
       "      <td>India</td>\n",
       "      <td>Asia</td>\n",
       "      <td>241</td>\n",
       "      <td>223</td>\n",
       "      <td>178</td>\n",
       "      <td>642</td>\n",
       "    </tr>\n",
       "    <tr>\n",
       "      <th>6</th>\n",
       "      <td>Egypt</td>\n",
       "      <td>Africa</td>\n",
       "      <td>173</td>\n",
       "      <td>244</td>\n",
       "      <td>241</td>\n",
       "      <td>658</td>\n",
       "    </tr>\n",
       "    <tr>\n",
       "      <th>7</th>\n",
       "      <td>England</td>\n",
       "      <td>Europe</td>\n",
       "      <td>189</td>\n",
       "      <td>162</td>\n",
       "      <td>162</td>\n",
       "      <td>513</td>\n",
       "    </tr>\n",
       "    <tr>\n",
       "      <th>8</th>\n",
       "      <td>Brazil</td>\n",
       "      <td>South America</td>\n",
       "      <td>198</td>\n",
       "      <td>173</td>\n",
       "      <td>239</td>\n",
       "      <td>610</td>\n",
       "    </tr>\n",
       "    <tr>\n",
       "      <th>9</th>\n",
       "      <td>Canada</td>\n",
       "      <td>North America</td>\n",
       "      <td>166</td>\n",
       "      <td>194</td>\n",
       "      <td>188</td>\n",
       "      <td>548</td>\n",
       "    </tr>\n",
       "  </tbody>\n",
       "</table>\n",
       "</div>"
      ],
      "text/plain": [
       "      Countries     Continents  Beer  Spirit  Wine  T_Cons\n",
       "0   Afghanistan           Asia   231     215   191     637\n",
       "1  South Africa         Africa   227     183   212     622\n",
       "2        France         Europe   197     236   243     676\n",
       "3     Argentina  South America   197     175   227     599\n",
       "4       America  North America   220     216   216     652\n",
       "5         India           Asia   241     223   178     642\n",
       "6         Egypt         Africa   173     244   241     658\n",
       "7       England         Europe   189     162   162     513\n",
       "8        Brazil  South America   198     173   239     610\n",
       "9        Canada  North America   166     194   188     548"
      ]
     },
     "execution_count": 191,
     "metadata": {},
     "output_type": "execute_result"
    }
   ],
   "source": [
    "df = pd.DataFrame(\n",
    "    {\n",
    "        \"Countries\":[\"Afghanistan\", \"South Africa\", \"France\", \"Argentina\", \"America\", \"India\", \"Egypt\", \"England\", \"Brazil\", \"Canada\"],\n",
    "        \"Continents\":[\"Asia\", \"Africa\", \"Europe\", \"South America\", \"North America\", \"Asia\", \"Africa\", \"Europe\", \"South America\", \"North America\"],\n",
    "        \"Beer\":np.random.randint(150, 250, size=10),\n",
    "        \"Spirit\":np.random.randint(150, 250, size=10),\n",
    "        \"Wine\":np.random.randint(150, 250, size=10)\n",
    "    }\n",
    ")\n",
    "df[\"T_Cons\"] = df[\"Beer\"] + df[\"Spirit\"] + df[\"Wine\"]\n",
    "df"
   ]
  },
  {
   "cell_type": "code",
   "execution_count": 193,
   "id": "8932297c-bda5-44c6-9634-63d9d3eb6ed9",
   "metadata": {},
   "outputs": [
    {
     "data": {
      "text/plain": [
       "203.9"
      ]
     },
     "execution_count": 193,
     "metadata": {},
     "output_type": "execute_result"
    }
   ],
   "source": [
    "df.Beer.mean()"
   ]
  },
  {
   "cell_type": "code",
   "execution_count": 195,
   "id": "a75242e5-6c95-4d59-8ac5-633816ef8d6a",
   "metadata": {},
   "outputs": [
    {
     "data": {
      "text/plain": [
       "203.9"
      ]
     },
     "execution_count": 195,
     "metadata": {},
     "output_type": "execute_result"
    }
   ],
   "source": [
    "df[\"Beer\"].mean()"
   ]
  },
  {
   "cell_type": "code",
   "execution_count": 197,
   "id": "4c7f44c6-98e4-41f7-b01c-13b141a704dc",
   "metadata": {},
   "outputs": [
    {
     "data": {
      "text/plain": [
       "Beer    203.9\n",
       "dtype: float64"
      ]
     },
     "execution_count": 197,
     "metadata": {},
     "output_type": "execute_result"
    }
   ],
   "source": [
    "df[[\"Beer\"]].mean()"
   ]
  },
  {
   "cell_type": "code",
   "execution_count": 199,
   "id": "24d29342-a2f4-40f6-95ca-e9e7b00b25e7",
   "metadata": {},
   "outputs": [
    {
     "data": {
      "text/plain": [
       "Beer      203.9\n",
       "Spirit    202.1\n",
       "dtype: float64"
      ]
     },
     "execution_count": 199,
     "metadata": {},
     "output_type": "execute_result"
    }
   ],
   "source": [
    "df[[\"Beer\", \"Spirit\"]].mean()"
   ]
  },
  {
   "cell_type": "code",
   "execution_count": 201,
   "id": "081616aa-a85d-4194-8fad-c9448973070e",
   "metadata": {},
   "outputs": [
    {
     "data": {
      "text/html": [
       "<div>\n",
       "<style scoped>\n",
       "    .dataframe tbody tr th:only-of-type {\n",
       "        vertical-align: middle;\n",
       "    }\n",
       "\n",
       "    .dataframe tbody tr th {\n",
       "        vertical-align: top;\n",
       "    }\n",
       "\n",
       "    .dataframe thead th {\n",
       "        text-align: right;\n",
       "    }\n",
       "</style>\n",
       "<table border=\"1\" class=\"dataframe\">\n",
       "  <thead>\n",
       "    <tr style=\"text-align: right;\">\n",
       "      <th></th>\n",
       "      <th>Countries</th>\n",
       "      <th>Continents</th>\n",
       "      <th>Beer</th>\n",
       "      <th>Spirit</th>\n",
       "      <th>Wine</th>\n",
       "      <th>T_Cons</th>\n",
       "    </tr>\n",
       "  </thead>\n",
       "  <tbody>\n",
       "    <tr>\n",
       "      <th>1</th>\n",
       "      <td>South Africa</td>\n",
       "      <td>Africa</td>\n",
       "      <td>227</td>\n",
       "      <td>183</td>\n",
       "      <td>212</td>\n",
       "      <td>622</td>\n",
       "    </tr>\n",
       "    <tr>\n",
       "      <th>6</th>\n",
       "      <td>Egypt</td>\n",
       "      <td>Africa</td>\n",
       "      <td>173</td>\n",
       "      <td>244</td>\n",
       "      <td>241</td>\n",
       "      <td>658</td>\n",
       "    </tr>\n",
       "  </tbody>\n",
       "</table>\n",
       "</div>"
      ],
      "text/plain": [
       "      Countries Continents  Beer  Spirit  Wine  T_Cons\n",
       "1  South Africa     Africa   227     183   212     622\n",
       "6         Egypt     Africa   173     244   241     658"
      ]
     },
     "execution_count": 201,
     "metadata": {},
     "output_type": "execute_result"
    }
   ],
   "source": [
    "df[df.Continents == \"Africa\"]"
   ]
  },
  {
   "cell_type": "code",
   "execution_count": 203,
   "id": "62ff632a-e27a-4b25-bc28-31795f644b2a",
   "metadata": {},
   "outputs": [
    {
     "data": {
      "text/html": [
       "<div>\n",
       "<style scoped>\n",
       "    .dataframe tbody tr th:only-of-type {\n",
       "        vertical-align: middle;\n",
       "    }\n",
       "\n",
       "    .dataframe tbody tr th {\n",
       "        vertical-align: top;\n",
       "    }\n",
       "\n",
       "    .dataframe thead th {\n",
       "        text-align: right;\n",
       "    }\n",
       "</style>\n",
       "<table border=\"1\" class=\"dataframe\">\n",
       "  <thead>\n",
       "    <tr style=\"text-align: right;\">\n",
       "      <th></th>\n",
       "      <th>Countries</th>\n",
       "      <th>Continents</th>\n",
       "      <th>Beer</th>\n",
       "      <th>Spirit</th>\n",
       "      <th>Wine</th>\n",
       "      <th>T_Cons</th>\n",
       "    </tr>\n",
       "  </thead>\n",
       "  <tbody>\n",
       "    <tr>\n",
       "      <th>1</th>\n",
       "      <td>South Africa</td>\n",
       "      <td>Africa</td>\n",
       "      <td>227</td>\n",
       "      <td>183</td>\n",
       "      <td>212</td>\n",
       "      <td>622</td>\n",
       "    </tr>\n",
       "    <tr>\n",
       "      <th>6</th>\n",
       "      <td>Egypt</td>\n",
       "      <td>Africa</td>\n",
       "      <td>173</td>\n",
       "      <td>244</td>\n",
       "      <td>241</td>\n",
       "      <td>658</td>\n",
       "    </tr>\n",
       "  </tbody>\n",
       "</table>\n",
       "</div>"
      ],
      "text/plain": [
       "      Countries Continents  Beer  Spirit  Wine  T_Cons\n",
       "1  South Africa     Africa   227     183   212     622\n",
       "6         Egypt     Africa   173     244   241     658"
      ]
     },
     "execution_count": 203,
     "metadata": {},
     "output_type": "execute_result"
    }
   ],
   "source": [
    "df[df[\"Continents\"] == \"Africa\"]"
   ]
  },
  {
   "cell_type": "code",
   "execution_count": 205,
   "id": "cff42f27-f756-4472-a1d1-2ef5a571d211",
   "metadata": {},
   "outputs": [
    {
     "data": {
      "text/plain": [
       "Countries      Egypt\n",
       "Continents    Africa\n",
       "Beer             173\n",
       "Spirit           183\n",
       "Wine             212\n",
       "T_Cons           622\n",
       "dtype: object"
      ]
     },
     "execution_count": 205,
     "metadata": {},
     "output_type": "execute_result"
    }
   ],
   "source": [
    "df[df[\"Continents\"] == \"Africa\"].min()"
   ]
  },
  {
   "cell_type": "code",
   "execution_count": 207,
   "id": "db4fa2f8-0be9-45e5-93ea-a182b893896c",
   "metadata": {},
   "outputs": [
    {
     "data": {
      "text/plain": [
       "173"
      ]
     },
     "execution_count": 207,
     "metadata": {},
     "output_type": "execute_result"
    }
   ],
   "source": [
    "df[df[\"Continents\"] == \"Africa\"].Beer.min()"
   ]
  },
  {
   "cell_type": "code",
   "execution_count": 209,
   "id": "17321671-46e0-4157-ad9b-93cd5cdb0d27",
   "metadata": {},
   "outputs": [
    {
     "data": {
      "text/plain": [
       "173"
      ]
     },
     "execution_count": 209,
     "metadata": {},
     "output_type": "execute_result"
    }
   ],
   "source": [
    "df[df[\"Continents\"] == \"Africa\"][\"Beer\"].min()"
   ]
  },
  {
   "cell_type": "code",
   "execution_count": 211,
   "id": "f2f1d701-3a9a-4d48-a609-d801577786a0",
   "metadata": {},
   "outputs": [
    {
     "data": {
      "text/plain": [
       "Beer      173\n",
       "Spirit    183\n",
       "dtype: int32"
      ]
     },
     "execution_count": 211,
     "metadata": {},
     "output_type": "execute_result"
    }
   ],
   "source": [
    "df[df[\"Continents\"] == \"Africa\"][[\"Beer\", \"Spirit\"]].min()"
   ]
  },
  {
   "cell_type": "code",
   "execution_count": 213,
   "id": "87dea041-3fa8-4c70-bcf8-4b52f7e41a0b",
   "metadata": {
    "scrolled": true
   },
   "outputs": [
    {
     "data": {
      "text/html": [
       "<div>\n",
       "<style scoped>\n",
       "    .dataframe tbody tr th:only-of-type {\n",
       "        vertical-align: middle;\n",
       "    }\n",
       "\n",
       "    .dataframe tbody tr th {\n",
       "        vertical-align: top;\n",
       "    }\n",
       "\n",
       "    .dataframe thead th {\n",
       "        text-align: right;\n",
       "    }\n",
       "</style>\n",
       "<table border=\"1\" class=\"dataframe\">\n",
       "  <thead>\n",
       "    <tr style=\"text-align: right;\">\n",
       "      <th></th>\n",
       "      <th>Continents</th>\n",
       "    </tr>\n",
       "  </thead>\n",
       "  <tbody>\n",
       "    <tr>\n",
       "      <th>0</th>\n",
       "      <td>False</td>\n",
       "    </tr>\n",
       "    <tr>\n",
       "      <th>1</th>\n",
       "      <td>True</td>\n",
       "    </tr>\n",
       "    <tr>\n",
       "      <th>2</th>\n",
       "      <td>False</td>\n",
       "    </tr>\n",
       "    <tr>\n",
       "      <th>3</th>\n",
       "      <td>False</td>\n",
       "    </tr>\n",
       "    <tr>\n",
       "      <th>4</th>\n",
       "      <td>False</td>\n",
       "    </tr>\n",
       "    <tr>\n",
       "      <th>5</th>\n",
       "      <td>False</td>\n",
       "    </tr>\n",
       "    <tr>\n",
       "      <th>6</th>\n",
       "      <td>True</td>\n",
       "    </tr>\n",
       "    <tr>\n",
       "      <th>7</th>\n",
       "      <td>False</td>\n",
       "    </tr>\n",
       "    <tr>\n",
       "      <th>8</th>\n",
       "      <td>False</td>\n",
       "    </tr>\n",
       "    <tr>\n",
       "      <th>9</th>\n",
       "      <td>False</td>\n",
       "    </tr>\n",
       "  </tbody>\n",
       "</table>\n",
       "</div>"
      ],
      "text/plain": [
       "   Continents\n",
       "0       False\n",
       "1        True\n",
       "2       False\n",
       "3       False\n",
       "4       False\n",
       "5       False\n",
       "6        True\n",
       "7       False\n",
       "8       False\n",
       "9       False"
      ]
     },
     "execution_count": 213,
     "metadata": {},
     "output_type": "execute_result"
    }
   ],
   "source": [
    "df[[\"Continents\"]] == [\"Africa\"]"
   ]
  },
  {
   "cell_type": "code",
   "execution_count": 215,
   "id": "e6f1dd22-adba-42fd-9ef3-5d28a3f197d0",
   "metadata": {},
   "outputs": [
    {
     "data": {
      "text/plain": [
       "<pandas.core.groupby.generic.DataFrameGroupBy object at 0x00000258B3E27FB0>"
      ]
     },
     "execution_count": 215,
     "metadata": {},
     "output_type": "execute_result"
    }
   ],
   "source": [
    "df.groupby(\"Continents\")"
   ]
  },
  {
   "cell_type": "code",
   "execution_count": 217,
   "id": "06a8d411-a442-4a85-856b-03d59826ee70",
   "metadata": {},
   "outputs": [
    {
     "data": {
      "text/plain": [
       "<pandas.core.groupby.generic.DataFrameGroupBy object at 0x00000258B3622960>"
      ]
     },
     "execution_count": 217,
     "metadata": {},
     "output_type": "execute_result"
    }
   ],
   "source": [
    "gb = df.groupby(\"Continents\")\n",
    "gb"
   ]
  },
  {
   "cell_type": "code",
   "execution_count": 219,
   "id": "bd351899-37eb-4593-a0fd-634832f2c240",
   "metadata": {},
   "outputs": [
    {
     "name": "stdout",
     "output_type": "stream",
     "text": [
      "Africa\n",
      "      Countries Continents  Beer  Spirit  Wine  T_Cons\n",
      "1  South Africa     Africa   227     183   212     622\n",
      "6         Egypt     Africa   173     244   241     658\n",
      "\n",
      "Asia\n",
      "     Countries Continents  Beer  Spirit  Wine  T_Cons\n",
      "0  Afghanistan       Asia   231     215   191     637\n",
      "5        India       Asia   241     223   178     642\n",
      "\n",
      "Europe\n",
      "  Countries Continents  Beer  Spirit  Wine  T_Cons\n",
      "2    France     Europe   197     236   243     676\n",
      "7   England     Europe   189     162   162     513\n",
      "\n",
      "North America\n",
      "  Countries     Continents  Beer  Spirit  Wine  T_Cons\n",
      "4   America  North America   220     216   216     652\n",
      "9    Canada  North America   166     194   188     548\n",
      "\n",
      "South America\n",
      "   Countries     Continents  Beer  Spirit  Wine  T_Cons\n",
      "3  Argentina  South America   197     175   227     599\n",
      "8     Brazil  South America   198     173   239     610\n",
      "\n"
     ]
    }
   ],
   "source": [
    "for i, j in gb:\n",
    "    print(i)\n",
    "    print(j)\n",
    "    print()"
   ]
  },
  {
   "cell_type": "code",
   "execution_count": 221,
   "id": "ffe25fb9-d347-4f98-a3eb-8fcc969c3f1d",
   "metadata": {},
   "outputs": [
    {
     "data": {
      "text/html": [
       "<div>\n",
       "<style scoped>\n",
       "    .dataframe tbody tr th:only-of-type {\n",
       "        vertical-align: middle;\n",
       "    }\n",
       "\n",
       "    .dataframe tbody tr th {\n",
       "        vertical-align: top;\n",
       "    }\n",
       "\n",
       "    .dataframe thead th {\n",
       "        text-align: right;\n",
       "    }\n",
       "</style>\n",
       "<table border=\"1\" class=\"dataframe\">\n",
       "  <thead>\n",
       "    <tr style=\"text-align: right;\">\n",
       "      <th></th>\n",
       "      <th>Countries</th>\n",
       "      <th>Continents</th>\n",
       "      <th>Beer</th>\n",
       "      <th>Spirit</th>\n",
       "      <th>Wine</th>\n",
       "      <th>T_Cons</th>\n",
       "    </tr>\n",
       "  </thead>\n",
       "  <tbody>\n",
       "    <tr>\n",
       "      <th>1</th>\n",
       "      <td>South Africa</td>\n",
       "      <td>Africa</td>\n",
       "      <td>227</td>\n",
       "      <td>183</td>\n",
       "      <td>212</td>\n",
       "      <td>622</td>\n",
       "    </tr>\n",
       "    <tr>\n",
       "      <th>6</th>\n",
       "      <td>Egypt</td>\n",
       "      <td>Africa</td>\n",
       "      <td>173</td>\n",
       "      <td>244</td>\n",
       "      <td>241</td>\n",
       "      <td>658</td>\n",
       "    </tr>\n",
       "  </tbody>\n",
       "</table>\n",
       "</div>"
      ],
      "text/plain": [
       "      Countries Continents  Beer  Spirit  Wine  T_Cons\n",
       "1  South Africa     Africa   227     183   212     622\n",
       "6         Egypt     Africa   173     244   241     658"
      ]
     },
     "execution_count": 221,
     "metadata": {},
     "output_type": "execute_result"
    }
   ],
   "source": [
    "gb.get_group(\"Africa\")"
   ]
  },
  {
   "cell_type": "code",
   "execution_count": 223,
   "id": "ac704b1d-b79f-4fc0-b58c-2e65727bb410",
   "metadata": {},
   "outputs": [
    {
     "data": {
      "text/html": [
       "<div>\n",
       "<style scoped>\n",
       "    .dataframe tbody tr th:only-of-type {\n",
       "        vertical-align: middle;\n",
       "    }\n",
       "\n",
       "    .dataframe tbody tr th {\n",
       "        vertical-align: top;\n",
       "    }\n",
       "\n",
       "    .dataframe thead th {\n",
       "        text-align: right;\n",
       "    }\n",
       "</style>\n",
       "<table border=\"1\" class=\"dataframe\">\n",
       "  <thead>\n",
       "    <tr style=\"text-align: right;\">\n",
       "      <th></th>\n",
       "      <th>Countries</th>\n",
       "      <th>Beer</th>\n",
       "      <th>Spirit</th>\n",
       "      <th>Wine</th>\n",
       "      <th>T_Cons</th>\n",
       "    </tr>\n",
       "    <tr>\n",
       "      <th>Continents</th>\n",
       "      <th></th>\n",
       "      <th></th>\n",
       "      <th></th>\n",
       "      <th></th>\n",
       "      <th></th>\n",
       "    </tr>\n",
       "  </thead>\n",
       "  <tbody>\n",
       "    <tr>\n",
       "      <th>Africa</th>\n",
       "      <td>Egypt</td>\n",
       "      <td>173</td>\n",
       "      <td>183</td>\n",
       "      <td>212</td>\n",
       "      <td>622</td>\n",
       "    </tr>\n",
       "    <tr>\n",
       "      <th>Asia</th>\n",
       "      <td>Afghanistan</td>\n",
       "      <td>231</td>\n",
       "      <td>215</td>\n",
       "      <td>178</td>\n",
       "      <td>637</td>\n",
       "    </tr>\n",
       "    <tr>\n",
       "      <th>Europe</th>\n",
       "      <td>England</td>\n",
       "      <td>189</td>\n",
       "      <td>162</td>\n",
       "      <td>162</td>\n",
       "      <td>513</td>\n",
       "    </tr>\n",
       "    <tr>\n",
       "      <th>North America</th>\n",
       "      <td>America</td>\n",
       "      <td>166</td>\n",
       "      <td>194</td>\n",
       "      <td>188</td>\n",
       "      <td>548</td>\n",
       "    </tr>\n",
       "    <tr>\n",
       "      <th>South America</th>\n",
       "      <td>Argentina</td>\n",
       "      <td>197</td>\n",
       "      <td>173</td>\n",
       "      <td>227</td>\n",
       "      <td>599</td>\n",
       "    </tr>\n",
       "  </tbody>\n",
       "</table>\n",
       "</div>"
      ],
      "text/plain": [
       "                 Countries  Beer  Spirit  Wine  T_Cons\n",
       "Continents                                            \n",
       "Africa               Egypt   173     183   212     622\n",
       "Asia           Afghanistan   231     215   178     637\n",
       "Europe             England   189     162   162     513\n",
       "North America      America   166     194   188     548\n",
       "South America    Argentina   197     173   227     599"
      ]
     },
     "execution_count": 223,
     "metadata": {},
     "output_type": "execute_result"
    }
   ],
   "source": [
    "gb.min()"
   ]
  },
  {
   "cell_type": "code",
   "execution_count": 225,
   "id": "4aa33e67-a446-4255-a74b-4b1aaececf63",
   "metadata": {},
   "outputs": [
    {
     "data": {
      "text/html": [
       "<div>\n",
       "<style scoped>\n",
       "    .dataframe tbody tr th:only-of-type {\n",
       "        vertical-align: middle;\n",
       "    }\n",
       "\n",
       "    .dataframe tbody tr th {\n",
       "        vertical-align: top;\n",
       "    }\n",
       "\n",
       "    .dataframe thead th {\n",
       "        text-align: right;\n",
       "    }\n",
       "</style>\n",
       "<table border=\"1\" class=\"dataframe\">\n",
       "  <thead>\n",
       "    <tr style=\"text-align: right;\">\n",
       "      <th></th>\n",
       "      <th>Countries</th>\n",
       "      <th>Beer</th>\n",
       "      <th>Spirit</th>\n",
       "      <th>Wine</th>\n",
       "      <th>T_Cons</th>\n",
       "    </tr>\n",
       "    <tr>\n",
       "      <th>Continents</th>\n",
       "      <th></th>\n",
       "      <th></th>\n",
       "      <th></th>\n",
       "      <th></th>\n",
       "      <th></th>\n",
       "    </tr>\n",
       "  </thead>\n",
       "  <tbody>\n",
       "    <tr>\n",
       "      <th>Africa</th>\n",
       "      <td>Egypt</td>\n",
       "      <td>173</td>\n",
       "      <td>183</td>\n",
       "      <td>212</td>\n",
       "      <td>622</td>\n",
       "    </tr>\n",
       "    <tr>\n",
       "      <th>Asia</th>\n",
       "      <td>Afghanistan</td>\n",
       "      <td>231</td>\n",
       "      <td>215</td>\n",
       "      <td>178</td>\n",
       "      <td>637</td>\n",
       "    </tr>\n",
       "    <tr>\n",
       "      <th>Europe</th>\n",
       "      <td>England</td>\n",
       "      <td>189</td>\n",
       "      <td>162</td>\n",
       "      <td>162</td>\n",
       "      <td>513</td>\n",
       "    </tr>\n",
       "    <tr>\n",
       "      <th>North America</th>\n",
       "      <td>America</td>\n",
       "      <td>166</td>\n",
       "      <td>194</td>\n",
       "      <td>188</td>\n",
       "      <td>548</td>\n",
       "    </tr>\n",
       "    <tr>\n",
       "      <th>South America</th>\n",
       "      <td>Argentina</td>\n",
       "      <td>197</td>\n",
       "      <td>173</td>\n",
       "      <td>227</td>\n",
       "      <td>599</td>\n",
       "    </tr>\n",
       "  </tbody>\n",
       "</table>\n",
       "</div>"
      ],
      "text/plain": [
       "                 Countries  Beer  Spirit  Wine  T_Cons\n",
       "Continents                                            \n",
       "Africa               Egypt   173     183   212     622\n",
       "Asia           Afghanistan   231     215   178     637\n",
       "Europe             England   189     162   162     513\n",
       "North America      America   166     194   188     548\n",
       "South America    Argentina   197     173   227     599"
      ]
     },
     "execution_count": 225,
     "metadata": {},
     "output_type": "execute_result"
    }
   ],
   "source": [
    "df.groupby(\"Continents\").min()"
   ]
  },
  {
   "cell_type": "code",
   "execution_count": 227,
   "id": "63fb76ef-13bc-47a8-b4d7-ba1751a23fc5",
   "metadata": {},
   "outputs": [
    {
     "data": {
      "text/plain": [
       "Continents\n",
       "Africa           173\n",
       "Asia             231\n",
       "Europe           189\n",
       "North America    166\n",
       "South America    197\n",
       "Name: Beer, dtype: int32"
      ]
     },
     "execution_count": 227,
     "metadata": {},
     "output_type": "execute_result"
    }
   ],
   "source": [
    "gb.Beer.min()"
   ]
  },
  {
   "cell_type": "code",
   "execution_count": 229,
   "id": "e88c4149-c77a-4460-85b8-6fdcb5510350",
   "metadata": {},
   "outputs": [
    {
     "data": {
      "text/plain": [
       "Continents\n",
       "Africa           173\n",
       "Asia             231\n",
       "Europe           189\n",
       "North America    166\n",
       "South America    197\n",
       "Name: Beer, dtype: int32"
      ]
     },
     "execution_count": 229,
     "metadata": {},
     "output_type": "execute_result"
    }
   ],
   "source": [
    "df.groupby(\"Continents\").Beer.min()"
   ]
  },
  {
   "cell_type": "code",
   "execution_count": 231,
   "id": "e45b2752-0e30-4bb8-98ae-ec6efc35175a",
   "metadata": {},
   "outputs": [
    {
     "data": {
      "text/plain": [
       "Continents\n",
       "Africa           173\n",
       "Asia             231\n",
       "Europe           189\n",
       "North America    166\n",
       "South America    197\n",
       "Name: Beer, dtype: int32"
      ]
     },
     "execution_count": 231,
     "metadata": {},
     "output_type": "execute_result"
    }
   ],
   "source": [
    "gb[\"Beer\"].min()"
   ]
  },
  {
   "cell_type": "code",
   "execution_count": 233,
   "id": "6650a14a-2221-4949-9bda-12922513ae0b",
   "metadata": {},
   "outputs": [
    {
     "data": {
      "text/html": [
       "<div>\n",
       "<style scoped>\n",
       "    .dataframe tbody tr th:only-of-type {\n",
       "        vertical-align: middle;\n",
       "    }\n",
       "\n",
       "    .dataframe tbody tr th {\n",
       "        vertical-align: top;\n",
       "    }\n",
       "\n",
       "    .dataframe thead th {\n",
       "        text-align: right;\n",
       "    }\n",
       "</style>\n",
       "<table border=\"1\" class=\"dataframe\">\n",
       "  <thead>\n",
       "    <tr style=\"text-align: right;\">\n",
       "      <th></th>\n",
       "      <th>Beer</th>\n",
       "    </tr>\n",
       "    <tr>\n",
       "      <th>Continents</th>\n",
       "      <th></th>\n",
       "    </tr>\n",
       "  </thead>\n",
       "  <tbody>\n",
       "    <tr>\n",
       "      <th>Africa</th>\n",
       "      <td>173</td>\n",
       "    </tr>\n",
       "    <tr>\n",
       "      <th>Asia</th>\n",
       "      <td>231</td>\n",
       "    </tr>\n",
       "    <tr>\n",
       "      <th>Europe</th>\n",
       "      <td>189</td>\n",
       "    </tr>\n",
       "    <tr>\n",
       "      <th>North America</th>\n",
       "      <td>166</td>\n",
       "    </tr>\n",
       "    <tr>\n",
       "      <th>South America</th>\n",
       "      <td>197</td>\n",
       "    </tr>\n",
       "  </tbody>\n",
       "</table>\n",
       "</div>"
      ],
      "text/plain": [
       "               Beer\n",
       "Continents         \n",
       "Africa          173\n",
       "Asia            231\n",
       "Europe          189\n",
       "North America   166\n",
       "South America   197"
      ]
     },
     "execution_count": 233,
     "metadata": {},
     "output_type": "execute_result"
    }
   ],
   "source": [
    "df.groupby(\"Continents\")[[\"Beer\"]].min()"
   ]
  },
  {
   "cell_type": "code",
   "execution_count": 235,
   "id": "4d333a18-d14c-455a-825e-ddc7cb2e557f",
   "metadata": {},
   "outputs": [
    {
     "data": {
      "text/html": [
       "<div>\n",
       "<style scoped>\n",
       "    .dataframe tbody tr th:only-of-type {\n",
       "        vertical-align: middle;\n",
       "    }\n",
       "\n",
       "    .dataframe tbody tr th {\n",
       "        vertical-align: top;\n",
       "    }\n",
       "\n",
       "    .dataframe thead th {\n",
       "        text-align: right;\n",
       "    }\n",
       "</style>\n",
       "<table border=\"1\" class=\"dataframe\">\n",
       "  <thead>\n",
       "    <tr style=\"text-align: right;\">\n",
       "      <th></th>\n",
       "      <th>Beer</th>\n",
       "      <th>Spirit</th>\n",
       "    </tr>\n",
       "    <tr>\n",
       "      <th>Continents</th>\n",
       "      <th></th>\n",
       "      <th></th>\n",
       "    </tr>\n",
       "  </thead>\n",
       "  <tbody>\n",
       "    <tr>\n",
       "      <th>Africa</th>\n",
       "      <td>173</td>\n",
       "      <td>183</td>\n",
       "    </tr>\n",
       "    <tr>\n",
       "      <th>Asia</th>\n",
       "      <td>231</td>\n",
       "      <td>215</td>\n",
       "    </tr>\n",
       "    <tr>\n",
       "      <th>Europe</th>\n",
       "      <td>189</td>\n",
       "      <td>162</td>\n",
       "    </tr>\n",
       "    <tr>\n",
       "      <th>North America</th>\n",
       "      <td>166</td>\n",
       "      <td>194</td>\n",
       "    </tr>\n",
       "    <tr>\n",
       "      <th>South America</th>\n",
       "      <td>197</td>\n",
       "      <td>173</td>\n",
       "    </tr>\n",
       "  </tbody>\n",
       "</table>\n",
       "</div>"
      ],
      "text/plain": [
       "               Beer  Spirit\n",
       "Continents                 \n",
       "Africa          173     183\n",
       "Asia            231     215\n",
       "Europe          189     162\n",
       "North America   166     194\n",
       "South America   197     173"
      ]
     },
     "execution_count": 235,
     "metadata": {},
     "output_type": "execute_result"
    }
   ],
   "source": [
    "gb[[\"Beer\", \"Spirit\"]].min()"
   ]
  },
  {
   "cell_type": "code",
   "execution_count": 237,
   "id": "e917e665-a35a-43f5-94f2-4cb9fb2d63f1",
   "metadata": {},
   "outputs": [
    {
     "data": {
      "text/html": [
       "<div>\n",
       "<style scoped>\n",
       "    .dataframe tbody tr th:only-of-type {\n",
       "        vertical-align: middle;\n",
       "    }\n",
       "\n",
       "    .dataframe tbody tr th {\n",
       "        vertical-align: top;\n",
       "    }\n",
       "\n",
       "    .dataframe thead th {\n",
       "        text-align: right;\n",
       "    }\n",
       "</style>\n",
       "<table border=\"1\" class=\"dataframe\">\n",
       "  <thead>\n",
       "    <tr style=\"text-align: right;\">\n",
       "      <th></th>\n",
       "      <th>Beer</th>\n",
       "      <th>Spirit</th>\n",
       "    </tr>\n",
       "    <tr>\n",
       "      <th>Continents</th>\n",
       "      <th></th>\n",
       "      <th></th>\n",
       "    </tr>\n",
       "  </thead>\n",
       "  <tbody>\n",
       "    <tr>\n",
       "      <th>Africa</th>\n",
       "      <td>173</td>\n",
       "      <td>183</td>\n",
       "    </tr>\n",
       "    <tr>\n",
       "      <th>Asia</th>\n",
       "      <td>231</td>\n",
       "      <td>215</td>\n",
       "    </tr>\n",
       "    <tr>\n",
       "      <th>Europe</th>\n",
       "      <td>189</td>\n",
       "      <td>162</td>\n",
       "    </tr>\n",
       "    <tr>\n",
       "      <th>North America</th>\n",
       "      <td>166</td>\n",
       "      <td>194</td>\n",
       "    </tr>\n",
       "    <tr>\n",
       "      <th>South America</th>\n",
       "      <td>197</td>\n",
       "      <td>173</td>\n",
       "    </tr>\n",
       "  </tbody>\n",
       "</table>\n",
       "</div>"
      ],
      "text/plain": [
       "               Beer  Spirit\n",
       "Continents                 \n",
       "Africa          173     183\n",
       "Asia            231     215\n",
       "Europe          189     162\n",
       "North America   166     194\n",
       "South America   197     173"
      ]
     },
     "execution_count": 237,
     "metadata": {},
     "output_type": "execute_result"
    }
   ],
   "source": [
    "df.groupby(\"Continents\")[[\"Beer\", \"Spirit\"]].min()"
   ]
  },
  {
   "cell_type": "code",
   "execution_count": 239,
   "id": "ad98ce4a-a1f0-4caf-ae35-0d3ded6e7082",
   "metadata": {},
   "outputs": [
    {
     "data": {
      "text/html": [
       "<div>\n",
       "<style scoped>\n",
       "    .dataframe tbody tr th:only-of-type {\n",
       "        vertical-align: middle;\n",
       "    }\n",
       "\n",
       "    .dataframe tbody tr th {\n",
       "        vertical-align: top;\n",
       "    }\n",
       "\n",
       "    .dataframe thead th {\n",
       "        text-align: right;\n",
       "    }\n",
       "</style>\n",
       "<table border=\"1\" class=\"dataframe\">\n",
       "  <thead>\n",
       "    <tr style=\"text-align: right;\">\n",
       "      <th></th>\n",
       "      <th>min</th>\n",
       "      <th>max</th>\n",
       "      <th>sum</th>\n",
       "      <th>count</th>\n",
       "    </tr>\n",
       "    <tr>\n",
       "      <th>Continents</th>\n",
       "      <th></th>\n",
       "      <th></th>\n",
       "      <th></th>\n",
       "      <th></th>\n",
       "    </tr>\n",
       "  </thead>\n",
       "  <tbody>\n",
       "    <tr>\n",
       "      <th>Africa</th>\n",
       "      <td>173</td>\n",
       "      <td>227</td>\n",
       "      <td>400</td>\n",
       "      <td>2</td>\n",
       "    </tr>\n",
       "    <tr>\n",
       "      <th>Asia</th>\n",
       "      <td>231</td>\n",
       "      <td>241</td>\n",
       "      <td>472</td>\n",
       "      <td>2</td>\n",
       "    </tr>\n",
       "    <tr>\n",
       "      <th>Europe</th>\n",
       "      <td>189</td>\n",
       "      <td>197</td>\n",
       "      <td>386</td>\n",
       "      <td>2</td>\n",
       "    </tr>\n",
       "    <tr>\n",
       "      <th>North America</th>\n",
       "      <td>166</td>\n",
       "      <td>220</td>\n",
       "      <td>386</td>\n",
       "      <td>2</td>\n",
       "    </tr>\n",
       "    <tr>\n",
       "      <th>South America</th>\n",
       "      <td>197</td>\n",
       "      <td>198</td>\n",
       "      <td>395</td>\n",
       "      <td>2</td>\n",
       "    </tr>\n",
       "  </tbody>\n",
       "</table>\n",
       "</div>"
      ],
      "text/plain": [
       "               min  max  sum  count\n",
       "Continents                         \n",
       "Africa         173  227  400      2\n",
       "Asia           231  241  472      2\n",
       "Europe         189  197  386      2\n",
       "North America  166  220  386      2\n",
       "South America  197  198  395      2"
      ]
     },
     "execution_count": 239,
     "metadata": {},
     "output_type": "execute_result"
    }
   ],
   "source": [
    "gb.Beer.agg([\"min\", \"max\", \"sum\", \"count\"])"
   ]
  },
  {
   "cell_type": "code",
   "execution_count": 241,
   "id": "3d9e6d7a-1c06-471d-a426-47aa8aa8e248",
   "metadata": {},
   "outputs": [
    {
     "data": {
      "text/html": [
       "<div>\n",
       "<style scoped>\n",
       "    .dataframe tbody tr th:only-of-type {\n",
       "        vertical-align: middle;\n",
       "    }\n",
       "\n",
       "    .dataframe tbody tr th {\n",
       "        vertical-align: top;\n",
       "    }\n",
       "\n",
       "    .dataframe thead tr th {\n",
       "        text-align: left;\n",
       "    }\n",
       "\n",
       "    .dataframe thead tr:last-of-type th {\n",
       "        text-align: right;\n",
       "    }\n",
       "</style>\n",
       "<table border=\"1\" class=\"dataframe\">\n",
       "  <thead>\n",
       "    <tr>\n",
       "      <th></th>\n",
       "      <th colspan=\"4\" halign=\"left\">Beer</th>\n",
       "      <th colspan=\"4\" halign=\"left\">Spirit</th>\n",
       "      <th colspan=\"4\" halign=\"left\">Wine</th>\n",
       "    </tr>\n",
       "    <tr>\n",
       "      <th></th>\n",
       "      <th>min</th>\n",
       "      <th>max</th>\n",
       "      <th>sum</th>\n",
       "      <th>count</th>\n",
       "      <th>min</th>\n",
       "      <th>max</th>\n",
       "      <th>sum</th>\n",
       "      <th>count</th>\n",
       "      <th>min</th>\n",
       "      <th>max</th>\n",
       "      <th>sum</th>\n",
       "      <th>count</th>\n",
       "    </tr>\n",
       "    <tr>\n",
       "      <th>Continents</th>\n",
       "      <th></th>\n",
       "      <th></th>\n",
       "      <th></th>\n",
       "      <th></th>\n",
       "      <th></th>\n",
       "      <th></th>\n",
       "      <th></th>\n",
       "      <th></th>\n",
       "      <th></th>\n",
       "      <th></th>\n",
       "      <th></th>\n",
       "      <th></th>\n",
       "    </tr>\n",
       "  </thead>\n",
       "  <tbody>\n",
       "    <tr>\n",
       "      <th>Africa</th>\n",
       "      <td>173</td>\n",
       "      <td>227</td>\n",
       "      <td>400</td>\n",
       "      <td>2</td>\n",
       "      <td>183</td>\n",
       "      <td>244</td>\n",
       "      <td>427</td>\n",
       "      <td>2</td>\n",
       "      <td>212</td>\n",
       "      <td>241</td>\n",
       "      <td>453</td>\n",
       "      <td>2</td>\n",
       "    </tr>\n",
       "    <tr>\n",
       "      <th>Asia</th>\n",
       "      <td>231</td>\n",
       "      <td>241</td>\n",
       "      <td>472</td>\n",
       "      <td>2</td>\n",
       "      <td>215</td>\n",
       "      <td>223</td>\n",
       "      <td>438</td>\n",
       "      <td>2</td>\n",
       "      <td>178</td>\n",
       "      <td>191</td>\n",
       "      <td>369</td>\n",
       "      <td>2</td>\n",
       "    </tr>\n",
       "    <tr>\n",
       "      <th>Europe</th>\n",
       "      <td>189</td>\n",
       "      <td>197</td>\n",
       "      <td>386</td>\n",
       "      <td>2</td>\n",
       "      <td>162</td>\n",
       "      <td>236</td>\n",
       "      <td>398</td>\n",
       "      <td>2</td>\n",
       "      <td>162</td>\n",
       "      <td>243</td>\n",
       "      <td>405</td>\n",
       "      <td>2</td>\n",
       "    </tr>\n",
       "    <tr>\n",
       "      <th>North America</th>\n",
       "      <td>166</td>\n",
       "      <td>220</td>\n",
       "      <td>386</td>\n",
       "      <td>2</td>\n",
       "      <td>194</td>\n",
       "      <td>216</td>\n",
       "      <td>410</td>\n",
       "      <td>2</td>\n",
       "      <td>188</td>\n",
       "      <td>216</td>\n",
       "      <td>404</td>\n",
       "      <td>2</td>\n",
       "    </tr>\n",
       "    <tr>\n",
       "      <th>South America</th>\n",
       "      <td>197</td>\n",
       "      <td>198</td>\n",
       "      <td>395</td>\n",
       "      <td>2</td>\n",
       "      <td>173</td>\n",
       "      <td>175</td>\n",
       "      <td>348</td>\n",
       "      <td>2</td>\n",
       "      <td>227</td>\n",
       "      <td>239</td>\n",
       "      <td>466</td>\n",
       "      <td>2</td>\n",
       "    </tr>\n",
       "  </tbody>\n",
       "</table>\n",
       "</div>"
      ],
      "text/plain": [
       "              Beer                 Spirit                 Wine                \n",
       "               min  max  sum count    min  max  sum count  min  max  sum count\n",
       "Continents                                                                    \n",
       "Africa         173  227  400     2    183  244  427     2  212  241  453     2\n",
       "Asia           231  241  472     2    215  223  438     2  178  191  369     2\n",
       "Europe         189  197  386     2    162  236  398     2  162  243  405     2\n",
       "North America  166  220  386     2    194  216  410     2  188  216  404     2\n",
       "South America  197  198  395     2    173  175  348     2  227  239  466     2"
      ]
     },
     "execution_count": 241,
     "metadata": {},
     "output_type": "execute_result"
    }
   ],
   "source": [
    "gb.agg(\n",
    "    {\n",
    "        \"Beer\":[\"min\", \"max\", \"sum\", \"count\"],\n",
    "        \"Spirit\":[\"min\", \"max\", \"sum\", \"count\"],\n",
    "        \"Wine\":[\"min\", \"max\", \"sum\", \"count\"]\n",
    "    }\n",
    ")"
   ]
  },
  {
   "cell_type": "code",
   "execution_count": 243,
   "id": "6132fbdb-dbc2-4eb0-962f-7ab83dadb590",
   "metadata": {},
   "outputs": [
    {
     "data": {
      "text/html": [
       "<div>\n",
       "<style scoped>\n",
       "    .dataframe tbody tr th:only-of-type {\n",
       "        vertical-align: middle;\n",
       "    }\n",
       "\n",
       "    .dataframe tbody tr th {\n",
       "        vertical-align: top;\n",
       "    }\n",
       "\n",
       "    .dataframe thead tr th {\n",
       "        text-align: left;\n",
       "    }\n",
       "\n",
       "    .dataframe thead tr:last-of-type th {\n",
       "        text-align: right;\n",
       "    }\n",
       "</style>\n",
       "<table border=\"1\" class=\"dataframe\">\n",
       "  <thead>\n",
       "    <tr>\n",
       "      <th></th>\n",
       "      <th colspan=\"4\" halign=\"left\">Beer</th>\n",
       "      <th colspan=\"4\" halign=\"left\">Spirit</th>\n",
       "    </tr>\n",
       "    <tr>\n",
       "      <th></th>\n",
       "      <th>min</th>\n",
       "      <th>max</th>\n",
       "      <th>sum</th>\n",
       "      <th>count</th>\n",
       "      <th>min</th>\n",
       "      <th>max</th>\n",
       "      <th>sum</th>\n",
       "      <th>count</th>\n",
       "    </tr>\n",
       "    <tr>\n",
       "      <th>Continents</th>\n",
       "      <th></th>\n",
       "      <th></th>\n",
       "      <th></th>\n",
       "      <th></th>\n",
       "      <th></th>\n",
       "      <th></th>\n",
       "      <th></th>\n",
       "      <th></th>\n",
       "    </tr>\n",
       "  </thead>\n",
       "  <tbody>\n",
       "    <tr>\n",
       "      <th>Africa</th>\n",
       "      <td>173</td>\n",
       "      <td>227</td>\n",
       "      <td>400</td>\n",
       "      <td>2</td>\n",
       "      <td>183</td>\n",
       "      <td>244</td>\n",
       "      <td>427</td>\n",
       "      <td>2</td>\n",
       "    </tr>\n",
       "    <tr>\n",
       "      <th>Asia</th>\n",
       "      <td>231</td>\n",
       "      <td>241</td>\n",
       "      <td>472</td>\n",
       "      <td>2</td>\n",
       "      <td>215</td>\n",
       "      <td>223</td>\n",
       "      <td>438</td>\n",
       "      <td>2</td>\n",
       "    </tr>\n",
       "    <tr>\n",
       "      <th>Europe</th>\n",
       "      <td>189</td>\n",
       "      <td>197</td>\n",
       "      <td>386</td>\n",
       "      <td>2</td>\n",
       "      <td>162</td>\n",
       "      <td>236</td>\n",
       "      <td>398</td>\n",
       "      <td>2</td>\n",
       "    </tr>\n",
       "    <tr>\n",
       "      <th>North America</th>\n",
       "      <td>166</td>\n",
       "      <td>220</td>\n",
       "      <td>386</td>\n",
       "      <td>2</td>\n",
       "      <td>194</td>\n",
       "      <td>216</td>\n",
       "      <td>410</td>\n",
       "      <td>2</td>\n",
       "    </tr>\n",
       "    <tr>\n",
       "      <th>South America</th>\n",
       "      <td>197</td>\n",
       "      <td>198</td>\n",
       "      <td>395</td>\n",
       "      <td>2</td>\n",
       "      <td>173</td>\n",
       "      <td>175</td>\n",
       "      <td>348</td>\n",
       "      <td>2</td>\n",
       "    </tr>\n",
       "  </tbody>\n",
       "</table>\n",
       "</div>"
      ],
      "text/plain": [
       "              Beer                 Spirit                \n",
       "               min  max  sum count    min  max  sum count\n",
       "Continents                                               \n",
       "Africa         173  227  400     2    183  244  427     2\n",
       "Asia           231  241  472     2    215  223  438     2\n",
       "Europe         189  197  386     2    162  236  398     2\n",
       "North America  166  220  386     2    194  216  410     2\n",
       "South America  197  198  395     2    173  175  348     2"
      ]
     },
     "execution_count": 243,
     "metadata": {},
     "output_type": "execute_result"
    }
   ],
   "source": [
    "gb[[\"Beer\", \"Spirit\"]].agg([\"min\", \"max\", \"sum\", \"count\"])"
   ]
  },
  {
   "cell_type": "code",
   "execution_count": 245,
   "id": "821b63cf-cb48-4898-b028-709d5217a45f",
   "metadata": {},
   "outputs": [
    {
     "data": {
      "text/html": [
       "<div>\n",
       "<style scoped>\n",
       "    .dataframe tbody tr th:only-of-type {\n",
       "        vertical-align: middle;\n",
       "    }\n",
       "\n",
       "    .dataframe tbody tr th {\n",
       "        vertical-align: top;\n",
       "    }\n",
       "\n",
       "    .dataframe thead th {\n",
       "        text-align: right;\n",
       "    }\n",
       "</style>\n",
       "<table border=\"1\" class=\"dataframe\">\n",
       "  <thead>\n",
       "    <tr style=\"text-align: right;\">\n",
       "      <th></th>\n",
       "      <th></th>\n",
       "      <th>Beer</th>\n",
       "    </tr>\n",
       "    <tr>\n",
       "      <th>Continents</th>\n",
       "      <th>Countries</th>\n",
       "      <th></th>\n",
       "    </tr>\n",
       "  </thead>\n",
       "  <tbody>\n",
       "    <tr>\n",
       "      <th rowspan=\"2\" valign=\"top\">Africa</th>\n",
       "      <th>Egypt</th>\n",
       "      <td>173</td>\n",
       "    </tr>\n",
       "    <tr>\n",
       "      <th>South Africa</th>\n",
       "      <td>227</td>\n",
       "    </tr>\n",
       "    <tr>\n",
       "      <th rowspan=\"2\" valign=\"top\">Asia</th>\n",
       "      <th>Afghanistan</th>\n",
       "      <td>231</td>\n",
       "    </tr>\n",
       "    <tr>\n",
       "      <th>India</th>\n",
       "      <td>241</td>\n",
       "    </tr>\n",
       "    <tr>\n",
       "      <th rowspan=\"2\" valign=\"top\">Europe</th>\n",
       "      <th>England</th>\n",
       "      <td>189</td>\n",
       "    </tr>\n",
       "    <tr>\n",
       "      <th>France</th>\n",
       "      <td>197</td>\n",
       "    </tr>\n",
       "    <tr>\n",
       "      <th rowspan=\"2\" valign=\"top\">North America</th>\n",
       "      <th>America</th>\n",
       "      <td>220</td>\n",
       "    </tr>\n",
       "    <tr>\n",
       "      <th>Canada</th>\n",
       "      <td>166</td>\n",
       "    </tr>\n",
       "    <tr>\n",
       "      <th rowspan=\"2\" valign=\"top\">South America</th>\n",
       "      <th>Argentina</th>\n",
       "      <td>197</td>\n",
       "    </tr>\n",
       "    <tr>\n",
       "      <th>Brazil</th>\n",
       "      <td>198</td>\n",
       "    </tr>\n",
       "  </tbody>\n",
       "</table>\n",
       "</div>"
      ],
      "text/plain": [
       "                            Beer\n",
       "Continents    Countries         \n",
       "Africa        Egypt          173\n",
       "              South Africa   227\n",
       "Asia          Afghanistan    231\n",
       "              India          241\n",
       "Europe        England        189\n",
       "              France         197\n",
       "North America America        220\n",
       "              Canada         166\n",
       "South America Argentina      197\n",
       "              Brazil         198"
      ]
     },
     "execution_count": 245,
     "metadata": {},
     "output_type": "execute_result"
    }
   ],
   "source": [
    "df.groupby([\"Continents\", \"Countries\"])[[\"Beer\"]].min()"
   ]
  },
  {
   "cell_type": "code",
   "execution_count": 247,
   "id": "3b7cb762-b213-4d13-ba45-138690819345",
   "metadata": {},
   "outputs": [
    {
     "data": {
      "text/html": [
       "<div>\n",
       "<style scoped>\n",
       "    .dataframe tbody tr th:only-of-type {\n",
       "        vertical-align: middle;\n",
       "    }\n",
       "\n",
       "    .dataframe tbody tr th {\n",
       "        vertical-align: top;\n",
       "    }\n",
       "\n",
       "    .dataframe thead th {\n",
       "        text-align: right;\n",
       "    }\n",
       "</style>\n",
       "<table border=\"1\" class=\"dataframe\">\n",
       "  <thead>\n",
       "    <tr style=\"text-align: right;\">\n",
       "      <th></th>\n",
       "      <th>Continents</th>\n",
       "      <th>Countries</th>\n",
       "      <th>Beer</th>\n",
       "    </tr>\n",
       "  </thead>\n",
       "  <tbody>\n",
       "    <tr>\n",
       "      <th>0</th>\n",
       "      <td>Africa</td>\n",
       "      <td>Egypt</td>\n",
       "      <td>173</td>\n",
       "    </tr>\n",
       "    <tr>\n",
       "      <th>1</th>\n",
       "      <td>Africa</td>\n",
       "      <td>South Africa</td>\n",
       "      <td>227</td>\n",
       "    </tr>\n",
       "    <tr>\n",
       "      <th>2</th>\n",
       "      <td>Asia</td>\n",
       "      <td>Afghanistan</td>\n",
       "      <td>231</td>\n",
       "    </tr>\n",
       "    <tr>\n",
       "      <th>3</th>\n",
       "      <td>Asia</td>\n",
       "      <td>India</td>\n",
       "      <td>241</td>\n",
       "    </tr>\n",
       "    <tr>\n",
       "      <th>4</th>\n",
       "      <td>Europe</td>\n",
       "      <td>England</td>\n",
       "      <td>189</td>\n",
       "    </tr>\n",
       "    <tr>\n",
       "      <th>5</th>\n",
       "      <td>Europe</td>\n",
       "      <td>France</td>\n",
       "      <td>197</td>\n",
       "    </tr>\n",
       "    <tr>\n",
       "      <th>6</th>\n",
       "      <td>North America</td>\n",
       "      <td>America</td>\n",
       "      <td>220</td>\n",
       "    </tr>\n",
       "    <tr>\n",
       "      <th>7</th>\n",
       "      <td>North America</td>\n",
       "      <td>Canada</td>\n",
       "      <td>166</td>\n",
       "    </tr>\n",
       "    <tr>\n",
       "      <th>8</th>\n",
       "      <td>South America</td>\n",
       "      <td>Argentina</td>\n",
       "      <td>197</td>\n",
       "    </tr>\n",
       "    <tr>\n",
       "      <th>9</th>\n",
       "      <td>South America</td>\n",
       "      <td>Brazil</td>\n",
       "      <td>198</td>\n",
       "    </tr>\n",
       "  </tbody>\n",
       "</table>\n",
       "</div>"
      ],
      "text/plain": [
       "      Continents     Countries  Beer\n",
       "0         Africa         Egypt   173\n",
       "1         Africa  South Africa   227\n",
       "2           Asia   Afghanistan   231\n",
       "3           Asia         India   241\n",
       "4         Europe       England   189\n",
       "5         Europe        France   197\n",
       "6  North America       America   220\n",
       "7  North America        Canada   166\n",
       "8  South America     Argentina   197\n",
       "9  South America        Brazil   198"
      ]
     },
     "execution_count": 247,
     "metadata": {},
     "output_type": "execute_result"
    }
   ],
   "source": [
    "df.groupby([\"Continents\", \"Countries\"], as_index=False)[[\"Beer\"]].min()"
   ]
  },
  {
   "cell_type": "markdown",
   "id": "67c7b8e3-7287-42fc-8ed8-ea261ce8bf73",
   "metadata": {},
   "source": [
    "<h4>Pandas plotting:</h4>"
   ]
  },
  {
   "cell_type": "code",
   "execution_count": 250,
   "id": "4c950b9b-cd4b-42cd-88f7-f9ab604e38e0",
   "metadata": {},
   "outputs": [],
   "source": [
    "%matplotlib inline"
   ]
  },
  {
   "cell_type": "code",
   "execution_count": 252,
   "id": "7a11f0f1-660d-402b-9be1-bba642201992",
   "metadata": {},
   "outputs": [
    {
     "data": {
      "image/png": "[encoded data removed]",
      "text/plain": [
       "<Figure size 640x480 with 1 Axes>"
      ]
     },
     "metadata": {},
     "output_type": "display_data"
    },
    {
     "data": {
      "image/png": "[encoded data removed]",
      "text/plain": [
       "<Figure size 640x480 with 1 Axes>"
      ]
     },
     "metadata": {},
     "output_type": "display_data"
    },
    {
     "data": {
      "image/png": "[encoded data removed]",
      "text/plain": [
       "<Figure size 640x480 with 1 Axes>"
      ]
     },
     "metadata": {},
     "output_type": "display_data"
    },
    {
     "data": {
      "image/png": "[encoded data removed]",
      "text/plain": [
       "<Figure size 640x480 with 1 Axes>"
      ]
     },
     "metadata": {},
     "output_type": "display_data"
    },
    {
     "data": {
      "image/png": "[encoded data removed]",
      "text/plain": [
       "<Figure size 640x480 with 1 Axes>"
      ]
     },
     "metadata": {},
     "output_type": "display_data"
    }
   ],
   "source": [
    "gb.plot()\n",
    "plt.show()"
   ]
  },
  {
   "cell_type": "code",
   "execution_count": 253,
   "id": "0aa963bf-2c65-4038-9f63-60a127da160f",
   "metadata": {},
   "outputs": [
    {
     "data": {
      "image/png": "[encoded data removed]",
      "text/plain": [
       "<Figure size 640x480 with 1 Axes>"
      ]
     },
     "metadata": {},
     "output_type": "display_data"
    }
   ],
   "source": [
    "gb.min().plot()\n",
    "plt.show()"
   ]
  },
  {
   "cell_type": "code",
   "execution_count": 255,
   "id": "08eb3bb2-75e4-416d-b5bf-26ef0d89c1a6",
   "metadata": {},
   "outputs": [
    {
     "data": {
      "image/png": "[encoded data removed]",
      "text/plain": [
       "<Figure size 640x480 with 1 Axes>"
      ]
     },
     "metadata": {},
     "output_type": "display_data"
    }
   ],
   "source": [
    "gb.describe().plot()\n",
    "plt.show()"
   ]
  },
  {
   "cell_type": "code",
   "execution_count": 257,
   "id": "0d88baf5-b58a-4ffc-883f-a354e28948ab",
   "metadata": {},
   "outputs": [
    {
     "data": {
      "image/png": "[encoded data removed]",
      "text/plain": [
       "<Figure size 640x480 with 1 Axes>"
      ]
     },
     "metadata": {},
     "output_type": "display_data"
    }
   ],
   "source": [
    "gb.Beer.agg([\"count\", \"sum\", \"min\", \"max\"]).plot()\n",
    "plt.show()"
   ]
  },
  {
   "cell_type": "markdown",
   "id": "141f343f-79ed-47b3-bd2f-91a17a25c546",
   "metadata": {},
   "source": [
    "<h4>Pandas cut function:</h4>"
   ]
  },
  {
   "cell_type": "code",
   "execution_count": 260,
   "id": "f7e9a71a-a894-4c1f-9968-6ed45897bef3",
   "metadata": {},
   "outputs": [
    {
     "data": {
      "text/html": [
       "<div>\n",
       "<style scoped>\n",
       "    .dataframe tbody tr th:only-of-type {\n",
       "        vertical-align: middle;\n",
       "    }\n",
       "\n",
       "    .dataframe tbody tr th {\n",
       "        vertical-align: top;\n",
       "    }\n",
       "\n",
       "    .dataframe thead th {\n",
       "        text-align: right;\n",
       "    }\n",
       "</style>\n",
       "<table border=\"1\" class=\"dataframe\">\n",
       "  <thead>\n",
       "    <tr style=\"text-align: right;\">\n",
       "      <th></th>\n",
       "      <th>Names</th>\n",
       "      <th>Marks</th>\n",
       "    </tr>\n",
       "  </thead>\n",
       "  <tbody>\n",
       "    <tr>\n",
       "      <th>0</th>\n",
       "      <td>Afghanistan</td>\n",
       "      <td>28</td>\n",
       "    </tr>\n",
       "    <tr>\n",
       "      <th>1</th>\n",
       "      <td>South Africa</td>\n",
       "      <td>98</td>\n",
       "    </tr>\n",
       "    <tr>\n",
       "      <th>2</th>\n",
       "      <td>France</td>\n",
       "      <td>63</td>\n",
       "    </tr>\n",
       "    <tr>\n",
       "      <th>3</th>\n",
       "      <td>Argentina</td>\n",
       "      <td>31</td>\n",
       "    </tr>\n",
       "    <tr>\n",
       "      <th>4</th>\n",
       "      <td>America</td>\n",
       "      <td>81</td>\n",
       "    </tr>\n",
       "    <tr>\n",
       "      <th>5</th>\n",
       "      <td>India</td>\n",
       "      <td>70</td>\n",
       "    </tr>\n",
       "    <tr>\n",
       "      <th>6</th>\n",
       "      <td>Egypt</td>\n",
       "      <td>78</td>\n",
       "    </tr>\n",
       "    <tr>\n",
       "      <th>7</th>\n",
       "      <td>England</td>\n",
       "      <td>49</td>\n",
       "    </tr>\n",
       "    <tr>\n",
       "      <th>8</th>\n",
       "      <td>Brazil</td>\n",
       "      <td>22</td>\n",
       "    </tr>\n",
       "    <tr>\n",
       "      <th>9</th>\n",
       "      <td>Canada</td>\n",
       "      <td>60</td>\n",
       "    </tr>\n",
       "  </tbody>\n",
       "</table>\n",
       "</div>"
      ],
      "text/plain": [
       "          Names  Marks\n",
       "0   Afghanistan     28\n",
       "1  South Africa     98\n",
       "2        France     63\n",
       "3     Argentina     31\n",
       "4       America     81\n",
       "5         India     70\n",
       "6         Egypt     78\n",
       "7       England     49\n",
       "8        Brazil     22\n",
       "9        Canada     60"
      ]
     },
     "execution_count": 260,
     "metadata": {},
     "output_type": "execute_result"
    }
   ],
   "source": [
    "df1 = pd.DataFrame(\n",
    "    {\n",
    "        \"Names\":[\"Afghanistan\", \"South Africa\", \"France\", \"Argentina\", \"America\", \"India\", \"Egypt\", \"England\", \"Brazil\", \"Canada\"],\n",
    "        \"Marks\":np.random.randint(0, 100, size=10)\n",
    "    }\n",
    ")\n",
    "df1"
   ]
  },
  {
   "cell_type": "markdown",
   "id": "f92f82eb-362c-45db-b72d-837b2ad46147",
   "metadata": {},
   "source": [
    "<h5>0 to 39 = \"Fail\"</h5>\n",
    "<h5>40 to 59 = \"Pass\"</h5>\n",
    "<h5>60 to 69 = \"First Class\"</h5>\n",
    "<h5>70 to 89 = \"Distinction\"</h5>\n",
    "<h5>90 to 100 = \"Extraordinary\"</h5>"
   ]
  },
  {
   "cell_type": "code",
   "execution_count": 264,
   "id": "47c8e32e-e700-4b32-ac3b-e40cf9553917",
   "metadata": {},
   "outputs": [
    {
     "data": {
      "text/html": [
       "<div>\n",
       "<style scoped>\n",
       "    .dataframe tbody tr th:only-of-type {\n",
       "        vertical-align: middle;\n",
       "    }\n",
       "\n",
       "    .dataframe tbody tr th {\n",
       "        vertical-align: top;\n",
       "    }\n",
       "\n",
       "    .dataframe thead th {\n",
       "        text-align: right;\n",
       "    }\n",
       "</style>\n",
       "<table border=\"1\" class=\"dataframe\">\n",
       "  <thead>\n",
       "    <tr style=\"text-align: right;\">\n",
       "      <th></th>\n",
       "      <th>Names</th>\n",
       "      <th>Marks</th>\n",
       "      <th>Grade</th>\n",
       "    </tr>\n",
       "  </thead>\n",
       "  <tbody>\n",
       "    <tr>\n",
       "      <th>0</th>\n",
       "      <td>Afghanistan</td>\n",
       "      <td>28</td>\n",
       "      <td>Fail</td>\n",
       "    </tr>\n",
       "    <tr>\n",
       "      <th>1</th>\n",
       "      <td>South Africa</td>\n",
       "      <td>98</td>\n",
       "      <td>Extraordinary</td>\n",
       "    </tr>\n",
       "    <tr>\n",
       "      <th>2</th>\n",
       "      <td>France</td>\n",
       "      <td>63</td>\n",
       "      <td>First Class</td>\n",
       "    </tr>\n",
       "    <tr>\n",
       "      <th>3</th>\n",
       "      <td>Argentina</td>\n",
       "      <td>31</td>\n",
       "      <td>Fail</td>\n",
       "    </tr>\n",
       "    <tr>\n",
       "      <th>4</th>\n",
       "      <td>America</td>\n",
       "      <td>81</td>\n",
       "      <td>Distinction</td>\n",
       "    </tr>\n",
       "    <tr>\n",
       "      <th>5</th>\n",
       "      <td>India</td>\n",
       "      <td>70</td>\n",
       "      <td>Distinction</td>\n",
       "    </tr>\n",
       "    <tr>\n",
       "      <th>6</th>\n",
       "      <td>Egypt</td>\n",
       "      <td>78</td>\n",
       "      <td>Distinction</td>\n",
       "    </tr>\n",
       "    <tr>\n",
       "      <th>7</th>\n",
       "      <td>England</td>\n",
       "      <td>49</td>\n",
       "      <td>Pass</td>\n",
       "    </tr>\n",
       "    <tr>\n",
       "      <th>8</th>\n",
       "      <td>Brazil</td>\n",
       "      <td>22</td>\n",
       "      <td>Fail</td>\n",
       "    </tr>\n",
       "    <tr>\n",
       "      <th>9</th>\n",
       "      <td>Canada</td>\n",
       "      <td>60</td>\n",
       "      <td>First Class</td>\n",
       "    </tr>\n",
       "  </tbody>\n",
       "</table>\n",
       "</div>"
      ],
      "text/plain": [
       "          Names  Marks          Grade\n",
       "0   Afghanistan     28           Fail\n",
       "1  South Africa     98  Extraordinary\n",
       "2        France     63    First Class\n",
       "3     Argentina     31           Fail\n",
       "4       America     81    Distinction\n",
       "5         India     70    Distinction\n",
       "6         Egypt     78    Distinction\n",
       "7       England     49           Pass\n",
       "8        Brazil     22           Fail\n",
       "9        Canada     60    First Class"
      ]
     },
     "execution_count": 264,
     "metadata": {},
     "output_type": "execute_result"
    }
   ],
   "source": [
    "bins = [0, 39, 59, 69, 89, 100]\n",
    "labels=[\"Fail\", \"Pass\", \"First Class\", \"Distinction\", \"Extraordinary\"]\n",
    "\n",
    "# df1[\"Grade\"]=pd.cut(df1[\"Marks\"],labels=labels,bins=bins)\n",
    "# df1\n",
    "\n",
    "df1[\"Grade\"] = pd.cut(df1[\"Marks\"], bins=[0,39,59,69,89,100], labels=[\"Fail\",\"Pass\",\"First Class\",\"Distinction\",\"Extraordinary\"])\n",
    "df1"
   ]
  },
  {
   "cell_type": "code",
   "execution_count": 266,
   "id": "b8ee2529-2691-43da-a1b7-21253b11f651",
   "metadata": {},
   "outputs": [
    {
     "name": "stdout",
     "output_type": "stream",
     "text": [
      "Fail\n",
      "         Names  Marks Grade\n",
      "0  Afghanistan     28  Fail\n",
      "3    Argentina     31  Fail\n",
      "8       Brazil     22  Fail\n",
      "\t\n",
      "Pass\n",
      "     Names  Marks Grade\n",
      "7  England     49  Pass\n",
      "\t\n",
      "First Class\n",
      "    Names  Marks        Grade\n",
      "2  France     63  First Class\n",
      "9  Canada     60  First Class\n",
      "\t\n",
      "Distinction\n",
      "     Names  Marks        Grade\n",
      "4  America     81  Distinction\n",
      "5    India     70  Distinction\n",
      "6    Egypt     78  Distinction\n",
      "\t\n",
      "Extraordinary\n",
      "          Names  Marks          Grade\n",
      "1  South Africa     98  Extraordinary\n",
      "\t\n"
     ]
    },
    {
     "name": "stderr",
     "output_type": "stream",
     "text": [
      "C:\\Users\\chira\\AppData\\Local\\Temp\\ipykernel_9156\\55051263.py:1: FutureWarning: The default of observed=False is deprecated and will be changed to True in a future version of pandas. Pass observed=False to retain current behavior or observed=True to adopt the future default and silence this warning.\n",
      "  grade_count = df1.groupby(\"Grade\")\n"
     ]
    }
   ],
   "source": [
    "grade_count = df1.groupby(\"Grade\")\n",
    "for i,j in grade_count:\n",
    "    print(i)\n",
    "    print(j)\n",
    "    print(\"\\t\")"
   ]
  },
  {
   "cell_type": "code",
   "execution_count": 268,
   "id": "dbd75977-3dc4-4676-abb6-e9308dfc291c",
   "metadata": {},
   "outputs": [
    {
     "data": {
      "text/plain": [
       "Grade\n",
       "Fail             3\n",
       "Pass             1\n",
       "First Class      2\n",
       "Distinction      3\n",
       "Extraordinary    1\n",
       "Name: Marks, dtype: int64"
      ]
     },
     "execution_count": 268,
     "metadata": {},
     "output_type": "execute_result"
    }
   ],
   "source": [
    "grade_count.Marks.count()"
   ]
  }
 ],
 "metadata": {
  "kernelspec": {
   "display_name": "Python [conda env:base] *",
   "language": "python",
   "name": "conda-base-py"
  },
  "language_info": {
   "codemirror_mode": {
    "name": "ipython",
    "version": 3
   },
   "file_extension": ".py",
   "mimetype": "text/x-python",
   "name": "python",
   "nbconvert_exporter": "python",
   "pygments_lexer": "ipython3",
   "version": "3.12.7"
  }
 },
 "nbformat": 4,
 "nbformat_minor": 5
}
